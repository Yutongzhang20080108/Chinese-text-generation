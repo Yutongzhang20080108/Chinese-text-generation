{
  "nbformat": 4,
  "nbformat_minor": 0,
  "metadata": {
    "colab": {
      "provenance": [],
      "authorship_tag": "ABX9TyMd4hpRp6uz8d67Eykn5Liz",
      "include_colab_link": true
    },
    "kernelspec": {
      "name": "python3",
      "display_name": "Python 3"
    },
    "language_info": {
      "name": "python"
    }
  },
  "cells": [
    {
      "cell_type": "markdown",
      "metadata": {
        "id": "view-in-github",
        "colab_type": "text"
      },
      "source": [
        "<a href=\"https://colab.research.google.com/github/Yutongzhang20080108/Chinese-text-generation-with-prompt-learning/blob/main/LLM_as_a_judge.ipynb\" target=\"_parent\"><img src=\"https://colab.research.google.com/assets/colab-badge.svg\" alt=\"Open In Colab\"/></a>"
      ]
    },
    {
      "cell_type": "markdown",
      "source": [
        "I was inspired by the literature \"Juding LLM-as-a-Judge with MT-Bench and Chatbot Arena\". I would like to use this method to test the Chinese text generation of GPT-3.5 and text it with ERNIE-3.5"
      ],
      "metadata": {
        "id": "vlzdLFT8nJmb"
      }
    },
    {
      "cell_type": "code",
      "source": [
        "!pip install openai"
      ],
      "metadata": {
        "colab": {
          "base_uri": "https://localhost:8080/"
        },
        "id": "Wd_CDFTSRsMo",
        "outputId": "d116ce88-22da-43ca-d5f0-457c30f6d271"
      },
      "execution_count": null,
      "outputs": [
        {
          "output_type": "stream",
          "name": "stdout",
          "text": [
            "Requirement already satisfied: openai in /usr/local/lib/python3.10/dist-packages (1.16.2)\n",
            "Requirement already satisfied: anyio<5,>=3.5.0 in /usr/local/lib/python3.10/dist-packages (from openai) (3.7.1)\n",
            "Requirement already satisfied: distro<2,>=1.7.0 in /usr/lib/python3/dist-packages (from openai) (1.7.0)\n",
            "Requirement already satisfied: httpx<1,>=0.23.0 in /usr/local/lib/python3.10/dist-packages (from openai) (0.27.0)\n",
            "Requirement already satisfied: pydantic<3,>=1.9.0 in /usr/local/lib/python3.10/dist-packages (from openai) (2.6.4)\n",
            "Requirement already satisfied: sniffio in /usr/local/lib/python3.10/dist-packages (from openai) (1.3.1)\n",
            "Requirement already satisfied: tqdm>4 in /usr/local/lib/python3.10/dist-packages (from openai) (4.66.2)\n",
            "Requirement already satisfied: typing-extensions<5,>=4.7 in /usr/local/lib/python3.10/dist-packages (from openai) (4.10.0)\n",
            "Requirement already satisfied: idna>=2.8 in /usr/local/lib/python3.10/dist-packages (from anyio<5,>=3.5.0->openai) (3.6)\n",
            "Requirement already satisfied: exceptiongroup in /usr/local/lib/python3.10/dist-packages (from anyio<5,>=3.5.0->openai) (1.2.0)\n",
            "Requirement already satisfied: certifi in /usr/local/lib/python3.10/dist-packages (from httpx<1,>=0.23.0->openai) (2024.2.2)\n",
            "Requirement already satisfied: httpcore==1.* in /usr/local/lib/python3.10/dist-packages (from httpx<1,>=0.23.0->openai) (1.0.5)\n",
            "Requirement already satisfied: h11<0.15,>=0.13 in /usr/local/lib/python3.10/dist-packages (from httpcore==1.*->httpx<1,>=0.23.0->openai) (0.14.0)\n",
            "Requirement already satisfied: annotated-types>=0.4.0 in /usr/local/lib/python3.10/dist-packages (from pydantic<3,>=1.9.0->openai) (0.6.0)\n",
            "Requirement already satisfied: pydantic-core==2.16.3 in /usr/local/lib/python3.10/dist-packages (from pydantic<3,>=1.9.0->openai) (2.16.3)\n"
          ]
        }
      ]
    },
    {
      "cell_type": "markdown",
      "source": [
        "Getting the generated text from gpt-3.5 Turbo"
      ],
      "metadata": {
        "id": "Q_X_5FM8OEyo"
      }
    },
    {
      "cell_type": "code",
      "source": [
        "import http.client\n",
        "import json\n",
        "\n",
        "theme_list = [\"自由\",\"生命\",\"理想\",\"高山\",\"大海\"]\n",
        "from openai import OpenAI\n",
        "text_list = []\n",
        "client = OpenAI(\n",
        "    # This is the default and can be omitted\n",
        "    api_key = \"sk-9qxqayMe8D42SRZ3r4yb4SRjdF0Xd2FwUmavZUJZXSTC6VnJ\",\n",
        "    base_url = \"https://api.chatanywhere.tech/v1\"\n",
        ")\n",
        "for theme in theme_list:\n",
        "  chat_completion = client.chat.completions.create(\n",
        "      messages=[\n",
        "          {\n",
        "              \"role\": \"user\",\n",
        "              f\"content\": \"请围绕{theme}这个主题写一首七言绝句,并且生成的内容只需要包括诗歌主体\",\n",
        "          }\n",
        "      ],\n",
        "      model=\"gpt-3.5-turbo\",\n",
        "  )\n",
        "  text = chat_completion.choices[0].message.content\n",
        "  text_list.append(text)\n",
        "print(text_list)"
      ],
      "metadata": {
        "id": "21_-E4fpnih_",
        "colab": {
          "base_uri": "https://localhost:8080/"
        },
        "outputId": "0bb9c582-a03b-47fd-af07-50d4cdce2acf"
      },
      "execution_count": null,
      "outputs": [
        {
          "output_type": "stream",
          "name": "stdout",
          "text": [
            "['红尘浮华逐梦飘，\\n诗意如烟如雨飞。\\n情绪翩翩飞鸟追，\\n文字起舞，心扉开。\\n流转篇章思绪涌，\\n悠然自得，一世哀。\\n寂寞辗转，温暖韵，\\n{theme}主题，意蕴怀。', '春风吹拂细雨洒，秋叶飘落散苍茫。\\n岁月轮回情难绕，生命永恒短暂长。', '天地广阔梦中游，思绪盘旋化成愁。\\n沧海桑田情难寄，岁月如梭忧愁留。', '春风吹动初绿芽，项链垂落珠光华。\\n纷纷捧出美图案，尽展绚烂自由花。\\n\\n秋风吹散树枝黄，秋雨拂过桂花香。\\n思念心事何时了，怅望人间独自惆。\\n\\n冬风凛冽漫长夜，瑞雪纷飞字句凝。\\n寒夜书写千年梦，诗篇点点暖人心。', '春风拂过江南园，花开满树绣梅笼。\\n春色满园人欢喜，美景温存在指尖。']\n"
          ]
        }
      ]
    },
    {
      "cell_type": "markdown",
      "source": [
        "Using ERNIE-3.5 to evaluate the quality of the generated text"
      ],
      "metadata": {
        "id": "7zKBs5UbOQhQ"
      }
    },
    {
      "cell_type": "code",
      "source": [
        "api_key = \"vk05T4TAIxYy6TU6Pk0c9hMz\"\n",
        "secret_key = \"zGlgT0MScaGtvQ1lcUEGRLFEjgvGm08U\"\n",
        "import pandas\n",
        "\n",
        "import requests\n",
        "import json\n",
        "\n",
        "def get_access_token():\n",
        "    \"\"\"\n",
        "    使用 API Key，Secret Key 获取access_token，替换下列示例中的应用API Key、应用Secret Key\n",
        "    \"\"\"\n",
        "\n",
        "    url = f\"https://aip.baidubce.com/oauth/2.0/token?grant_type=client_credentials&client_id={api_key}&client_secret={secret_key}\"\n",
        "\n",
        "    payload = json.dumps(\"\")\n",
        "    headers = {\n",
        "        'Content-Type': 'application/json',\n",
        "        'Accept': 'application/json'\n",
        "    }\n",
        "\n",
        "    response = requests.request(\"POST\", url, headers=headers, data=payload)\n",
        "    return response.json().get(\"access_token\")\n",
        "rate = {}\n",
        "for text in  text_list:\n",
        "  url = \"https://aip.baidubce.com/rpc/2.0/ai_custom/v1/wenxinworkshop/chat/completions?access_token=\" + get_access_token()\n",
        "\n",
        "  payload = json.dumps({\n",
        "      \"messages\": [\n",
        "          {\n",
        "              \"role\": \"user\",\n",
        "              \"content\": f\"你的回答只需要一个数字。请你用以下标准：（评分等级为1到5）：①格式。生成的唐诗是否遵循写作规则,尤其注意对仗、句数、字数、平仄；②创新性。生成的唐诗是否抄袭现成的诗句，是否具有创新性；③相关性。生成的唐诗与给定主题是否相关；④美学。生成的唐诗是否符合中国诗词的审美，包括寓情于物等；⑤整体。从整体情况评价生成的唐诗。诗歌为:{text}\"\n",
        "          }\n",
        "      ],\n",
        "      \"response_format\":\"json_object\"\n",
        "  })\n",
        "  headers = {\n",
        "      'Content-Type': 'application/json'\n",
        "  }\n",
        "\n",
        "  response = requests.request(\"POST\", url, headers=headers, data=payload)\n",
        "  print(response.text)"
      ],
      "metadata": {
        "id": "I0sFS2XXt4e-",
        "colab": {
          "base_uri": "https://localhost:8080/"
        },
        "outputId": "fdf45861-3c62-4eda-cd2c-3e2356f41207"
      },
      "execution_count": null,
      "outputs": [
        {
          "output_type": "stream",
          "name": "stdout",
          "text": [
            "{\"id\":\"as-atumu3frba\",\"object\":\"chat.completion\",\"created\":1712282232,\"result\":\"{\\n    \\\"格式\\\": 3,\\n    \\\"创新性\\\": 2,\\n    \\\"相关性\\\": 3,\\n    \\\"美学\\\": 4,\\n    \\\"整体\\\": 3\\n}\",\"is_truncated\":false,\"need_clear_history\":false,\"finish_reason\":\"normal\",\"usage\":{\"prompt_tokens\":169,\"completion_tokens\":43,\"total_tokens\":212}}\n",
            "{\"id\":\"as-jd8i5fiu3d\",\"object\":\"chat.completion\",\"created\":1712282236,\"result\":\"{\\n    \\\"格式\\\": 3,\\n    \\\"创新性\\\": 2,\\n    \\\"相关性\\\": 2,\\n    \\\"美学\\\": 3,\\n    \\\"整体\\\": 3\\n}\",\"is_truncated\":false,\"need_clear_history\":false,\"finish_reason\":\"normal\",\"usage\":{\"prompt_tokens\":133,\"completion_tokens\":43,\"total_tokens\":176}}\n",
            "{\"id\":\"as-pynkgzu5d7\",\"object\":\"chat.completion\",\"created\":1712282243,\"result\":\"{\\n    \\\"格式\\\": 3,\\n    \\\"创新性\\\": 2,\\n    \\\"相关性\\\": 3,\\n    \\\"美学\\\": 3,\\n    \\\"整体\\\": 3\\n}\\n\\n这首诗的格式基本符合唐诗的写作规则，但平仄方面略有欠缺。在创新性方面，诗句并未抄袭现成诗句，但也没有明显的创新点。主题相关性上，诗歌表达了一种对时间和情感流逝的感慨，与给定的主题有一定的关联。美学上，诗歌寓情于物，通过描绘天地、沧海桑田等自然景象，传达了诗人的情感。整体而言，这首诗表现了一定的情感和意境，但仍有提升的空间。\",\"is_truncated\":false,\"need_clear_history\":false,\"finish_reason\":\"normal\",\"usage\":{\"prompt_tokens\":134,\"completion_tokens\":146,\"total_tokens\":280}}\n",
            "{\"id\":\"as-srvpzqvdmv\",\"object\":\"chat.completion\",\"created\":1712282248,\"result\":\"{\\n    \\\"格式\\\": 4,\\n    \\\"创新性\\\": 3,\\n    \\\"相关性\\\": 3,\\n    \\\"美学\\\": 4,\\n    \\\"整体\\\": 3.6\\n}\",\"is_truncated\":false,\"need_clear_history\":false,\"finish_reason\":\"normal\",\"usage\":{\"prompt_tokens\":192,\"completion_tokens\":45,\"total_tokens\":237}}\n",
            "{\"id\":\"as-ge0gb2im6u\",\"object\":\"chat.completion\",\"created\":1712282252,\"result\":\"{\\n    \\\"格式\\\": 4,\\n    \\\"创新性\\\": 3,\\n    \\\"相关性\\\": 4,\\n    \\\"美学\\\": 4,\\n    \\\"整体\\\": 4\\n}\",\"is_truncated\":false,\"need_clear_history\":false,\"finish_reason\":\"normal\",\"usage\":{\"prompt_tokens\":133,\"completion_tokens\":43,\"total_tokens\":176}}\n"
          ]
        }
      ]
    },
    {
      "cell_type": "code",
      "source": [
        "from openai import OpenAI\n",
        "theme_list = [\"自由\",\"生命\",\"理想\",\"高山\",\"大海\"]\n",
        "COT_text_list = []\n",
        "client = OpenAI(\n",
        "    # This is the default and can be omitted\n",
        "    api_key = \"sk-9qxqayMe8D42SRZ3r4yb4SRjdF0Xd2FwUmavZUJZXSTC6VnJ\",\n",
        "    base_url = \"https://api.chatanywhere.tech/v1\"\n",
        ")\n",
        "for theme in theme_list:\n",
        "  chat_completion = client.chat.completions.create(\n",
        "      model=\"gpt-3.5-turbo\",\n",
        "      messages=[{\"role\": \"user\",\"content\": f\"围绕{theme}这个主题通常有哪些情感\"}\n",
        "            ,{\"role\":\"user\",\"content\":\"针对上述的第一个情感，具体包含着哪些事物\"},\n",
        "            {\"role\":\"user\",\"content\":\"请你生成一首有关上述的事物和情感的七言律诗\"}]\n",
        "  )\n",
        "  text = chat_completion.choices[0].message.content\n",
        "  COT_text_list.append(text)\n",
        "print(text_list)"
      ],
      "metadata": {
        "colab": {
          "base_uri": "https://localhost:8080/"
        },
        "id": "iUUd8ghKiLta",
        "outputId": "c291cd33-02cc-4759-e03b-f1d96de31fd6"
      },
      "execution_count": null,
      "outputs": [
        {
          "output_type": "stream",
          "name": "stdout",
          "text": [
            "['红尘浮华逐梦飘，\\n诗意如烟如雨飞。\\n情绪翩翩飞鸟追，\\n文字起舞，心扉开。\\n流转篇章思绪涌，\\n悠然自得，一世哀。\\n寂寞辗转，温暖韵，\\n{theme}主题，意蕴怀。', '春风吹拂细雨洒，秋叶飘落散苍茫。\\n岁月轮回情难绕，生命永恒短暂长。', '天地广阔梦中游，思绪盘旋化成愁。\\n沧海桑田情难寄，岁月如梭忧愁留。', '春风吹动初绿芽，项链垂落珠光华。\\n纷纷捧出美图案，尽展绚烂自由花。\\n\\n秋风吹散树枝黄，秋雨拂过桂花香。\\n思念心事何时了，怅望人间独自惆。\\n\\n冬风凛冽漫长夜，瑞雪纷飞字句凝。\\n寒夜书写千年梦，诗篇点点暖人心。', '春风拂过江南园，花开满树绣梅笼。\\n春色满园人欢喜，美景温存在指尖。']\n"
          ]
        }
      ]
    },
    {
      "cell_type": "code",
      "source": [
        "for text in  COT_text_list:\n",
        "  url = \"https://aip.baidubce.com/rpc/2.0/ai_custom/v1/wenxinworkshop/chat/completions?access_token=\" + get_access_token()\n",
        "\n",
        "  payload = json.dumps({\n",
        "      \"messages\": [\n",
        "          {\n",
        "              \"role\": \"user\",\n",
        "              \"content\": f\"你的回答只需要一个数字。请你用以下标准：（评分等级为1到5）：①格式。生成的唐诗是否遵循写作规则,尤其注意对仗、句数、字数、平仄；②创新性。生成的唐诗是否抄袭现成的诗句，是否具有创新性；③相关性。生成的唐诗与给定主题是否相关；④美学。生成的唐诗是否符合中国诗词的审美，包括寓情于物等；⑤整体。从整体情况评价生成的唐诗。诗歌为:{text}\"\n",
        "          }\n",
        "      ],\n",
        "      \"response_format\":\"json_object\"\n",
        "  })\n",
        "  headers = {\n",
        "      'Content-Type': 'application/json'\n",
        "  }\n",
        "\n",
        "  response = requests.request(\"POST\", url, headers=headers, data=payload)\n",
        "  print(response.text)"
      ],
      "metadata": {
        "colab": {
          "base_uri": "https://localhost:8080/"
        },
        "id": "xMxSbZyMiu6m",
        "outputId": "ceec6124-18fe-45b3-e3d4-54f845461141"
      },
      "execution_count": null,
      "outputs": [
        {
          "output_type": "stream",
          "name": "stdout",
          "text": [
            "{\"id\":\"as-xvjmw23xrb\",\"object\":\"chat.completion\",\"created\":1712283171,\"result\":\"{\\n    \\\"格式\\\": 4,\\n    \\\"创新性\\\": 3,\\n    \\\"相关性\\\": 4,\\n    \\\"美学\\\": 4,\\n    \\\"整体\\\": 4\\n}\",\"is_truncated\":false,\"need_clear_history\":false,\"finish_reason\":\"normal\",\"usage\":{\"prompt_tokens\":365,\"completion_tokens\":43,\"total_tokens\":408}}\n",
            "{\"id\":\"as-m8zjyjrar1\",\"object\":\"chat.completion\",\"created\":1712283175,\"result\":\"{\\n    \\\"格式\\\": 4,\\n    \\\"创新性\\\": 3,\\n    \\\"相关性\\\": 4,\\n    \\\"美学\\\": 4,\\n    \\\"整体\\\": 4\\n}\",\"is_truncated\":false,\"need_clear_history\":false,\"finish_reason\":\"normal\",\"usage\":{\"prompt_tokens\":367,\"completion_tokens\":43,\"total_tokens\":410}}\n",
            "{\"id\":\"as-7176245kc1\",\"object\":\"chat.completion\",\"created\":1712283180,\"result\":\"{\\n    \\\"格式\\\": 4,\\n    \\\"创新性\\\": 3,\\n    \\\"相关性\\\": 3,\\n    \\\"美学\\\": 4,\\n    \\\"整体\\\": 3\\n}\",\"is_truncated\":false,\"need_clear_history\":false,\"finish_reason\":\"normal\",\"usage\":{\"prompt_tokens\":149,\"completion_tokens\":43,\"total_tokens\":192}}\n",
            "{\"id\":\"as-rsyuuxknf3\",\"object\":\"chat.completion\",\"created\":1712283184,\"result\":\"{\\n    \\\"格式\\\": 3,\\n    \\\"创新性\\\": 3,\\n    \\\"相关性\\\": 4,\\n    \\\"美学\\\": 4,\\n    \\\"整体\\\": 4\\n}\",\"is_truncated\":false,\"need_clear_history\":false,\"finish_reason\":\"normal\",\"usage\":{\"prompt_tokens\":162,\"completion_tokens\":43,\"total_tokens\":205}}\n",
            "{\"id\":\"as-9w1308cebu\",\"object\":\"chat.completion\",\"created\":1712283188,\"result\":\"{\\n    \\\"格式\\\": 3,\\n    \\\"创新性\\\": 2,\\n    \\\"相关性\\\": 4,\\n    \\\"美学\\\": 4,\\n    \\\"整体\\\": 3\\n}\",\"is_truncated\":false,\"need_clear_history\":false,\"finish_reason\":\"normal\",\"usage\":{\"prompt_tokens\":163,\"completion_tokens\":43,\"total_tokens\":206}}\n"
          ]
        }
      ]
    },
    {
      "cell_type": "code",
      "source": [],
      "metadata": {
        "id": "lhkmYehii6wZ"
      },
      "execution_count": null,
      "outputs": []
    }
  ]
}