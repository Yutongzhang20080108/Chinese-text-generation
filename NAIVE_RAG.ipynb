{
  "nbformat": 4,
  "nbformat_minor": 0,
  "metadata": {
    "colab": {
      "provenance": [],
      "authorship_tag": "ABX9TyNICj2ZnHqHDfuN7Gpf9Ya+",
      "include_colab_link": true
    },
    "kernelspec": {
      "name": "python3",
      "display_name": "Python 3"
    },
    "language_info": {
      "name": "python"
    }
  },
  "cells": [
    {
      "cell_type": "markdown",
      "metadata": {
        "id": "view-in-github",
        "colab_type": "text"
      },
      "source": [
        "<a href=\"https://colab.research.google.com/github/Yutongzhang20080108/Chinese-text-generation/blob/main/NAIVE_RAG.ipynb\" target=\"_parent\"><img src=\"https://colab.research.google.com/assets/colab-badge.svg\" alt=\"Open In Colab\"/></a>"
      ]
    },
    {
      "cell_type": "code",
      "execution_count": 2,
      "metadata": {
        "colab": {
          "base_uri": "https://localhost:8080/"
        },
        "id": "aoYTHrZDj1t5",
        "outputId": "b37e4ea4-8973-4836-fea0-ebe07aa42016"
      },
      "outputs": [
        {
          "output_type": "stream",
          "name": "stdout",
          "text": [
            "Requirement already satisfied: langchain in /usr/local/lib/python3.10/dist-packages (0.2.1)\n",
            "Requirement already satisfied: PyYAML>=5.3 in /usr/local/lib/python3.10/dist-packages (from langchain) (6.0.1)\n",
            "Requirement already satisfied: SQLAlchemy<3,>=1.4 in /usr/local/lib/python3.10/dist-packages (from langchain) (2.0.30)\n",
            "Requirement already satisfied: aiohttp<4.0.0,>=3.8.3 in /usr/local/lib/python3.10/dist-packages (from langchain) (3.9.5)\n",
            "Requirement already satisfied: async-timeout<5.0.0,>=4.0.0 in /usr/local/lib/python3.10/dist-packages (from langchain) (4.0.3)\n",
            "Requirement already satisfied: langchain-core<0.3.0,>=0.2.0 in /usr/local/lib/python3.10/dist-packages (from langchain) (0.2.1)\n",
            "Requirement already satisfied: langchain-text-splitters<0.3.0,>=0.2.0 in /usr/local/lib/python3.10/dist-packages (from langchain) (0.2.0)\n",
            "Requirement already satisfied: langsmith<0.2.0,>=0.1.17 in /usr/local/lib/python3.10/dist-packages (from langchain) (0.1.63)\n",
            "Requirement already satisfied: numpy<2,>=1 in /usr/local/lib/python3.10/dist-packages (from langchain) (1.25.2)\n",
            "Requirement already satisfied: pydantic<3,>=1 in /usr/local/lib/python3.10/dist-packages (from langchain) (2.7.1)\n",
            "Requirement already satisfied: requests<3,>=2 in /usr/local/lib/python3.10/dist-packages (from langchain) (2.31.0)\n",
            "Requirement already satisfied: tenacity<9.0.0,>=8.1.0 in /usr/local/lib/python3.10/dist-packages (from langchain) (8.3.0)\n",
            "Requirement already satisfied: aiosignal>=1.1.2 in /usr/local/lib/python3.10/dist-packages (from aiohttp<4.0.0,>=3.8.3->langchain) (1.3.1)\n",
            "Requirement already satisfied: attrs>=17.3.0 in /usr/local/lib/python3.10/dist-packages (from aiohttp<4.0.0,>=3.8.3->langchain) (23.2.0)\n",
            "Requirement already satisfied: frozenlist>=1.1.1 in /usr/local/lib/python3.10/dist-packages (from aiohttp<4.0.0,>=3.8.3->langchain) (1.4.1)\n",
            "Requirement already satisfied: multidict<7.0,>=4.5 in /usr/local/lib/python3.10/dist-packages (from aiohttp<4.0.0,>=3.8.3->langchain) (6.0.5)\n",
            "Requirement already satisfied: yarl<2.0,>=1.0 in /usr/local/lib/python3.10/dist-packages (from aiohttp<4.0.0,>=3.8.3->langchain) (1.9.4)\n",
            "Requirement already satisfied: jsonpatch<2.0,>=1.33 in /usr/local/lib/python3.10/dist-packages (from langchain-core<0.3.0,>=0.2.0->langchain) (1.33)\n",
            "Requirement already satisfied: packaging<24.0,>=23.2 in /usr/local/lib/python3.10/dist-packages (from langchain-core<0.3.0,>=0.2.0->langchain) (23.2)\n",
            "Requirement already satisfied: orjson<4.0.0,>=3.9.14 in /usr/local/lib/python3.10/dist-packages (from langsmith<0.2.0,>=0.1.17->langchain) (3.10.3)\n",
            "Requirement already satisfied: annotated-types>=0.4.0 in /usr/local/lib/python3.10/dist-packages (from pydantic<3,>=1->langchain) (0.7.0)\n",
            "Requirement already satisfied: pydantic-core==2.18.2 in /usr/local/lib/python3.10/dist-packages (from pydantic<3,>=1->langchain) (2.18.2)\n",
            "Requirement already satisfied: typing-extensions>=4.6.1 in /usr/local/lib/python3.10/dist-packages (from pydantic<3,>=1->langchain) (4.11.0)\n",
            "Requirement already satisfied: charset-normalizer<4,>=2 in /usr/local/lib/python3.10/dist-packages (from requests<3,>=2->langchain) (3.3.2)\n",
            "Requirement already satisfied: idna<4,>=2.5 in /usr/local/lib/python3.10/dist-packages (from requests<3,>=2->langchain) (3.7)\n",
            "Requirement already satisfied: urllib3<3,>=1.21.1 in /usr/local/lib/python3.10/dist-packages (from requests<3,>=2->langchain) (2.0.7)\n",
            "Requirement already satisfied: certifi>=2017.4.17 in /usr/local/lib/python3.10/dist-packages (from requests<3,>=2->langchain) (2024.2.2)\n",
            "Requirement already satisfied: greenlet!=0.4.17 in /usr/local/lib/python3.10/dist-packages (from SQLAlchemy<3,>=1.4->langchain) (3.0.3)\n",
            "Requirement already satisfied: jsonpointer>=1.9 in /usr/local/lib/python3.10/dist-packages (from jsonpatch<2.0,>=1.33->langchain-core<0.3.0,>=0.2.0->langchain) (2.4)\n",
            "Requirement already satisfied: langsmith in /usr/local/lib/python3.10/dist-packages (0.1.63)\n",
            "Requirement already satisfied: orjson<4.0.0,>=3.9.14 in /usr/local/lib/python3.10/dist-packages (from langsmith) (3.10.3)\n",
            "Requirement already satisfied: pydantic<3,>=1 in /usr/local/lib/python3.10/dist-packages (from langsmith) (2.7.1)\n",
            "Requirement already satisfied: requests<3,>=2 in /usr/local/lib/python3.10/dist-packages (from langsmith) (2.31.0)\n",
            "Requirement already satisfied: annotated-types>=0.4.0 in /usr/local/lib/python3.10/dist-packages (from pydantic<3,>=1->langsmith) (0.7.0)\n",
            "Requirement already satisfied: pydantic-core==2.18.2 in /usr/local/lib/python3.10/dist-packages (from pydantic<3,>=1->langsmith) (2.18.2)\n",
            "Requirement already satisfied: typing-extensions>=4.6.1 in /usr/local/lib/python3.10/dist-packages (from pydantic<3,>=1->langsmith) (4.11.0)\n",
            "Requirement already satisfied: charset-normalizer<4,>=2 in /usr/local/lib/python3.10/dist-packages (from requests<3,>=2->langsmith) (3.3.2)\n",
            "Requirement already satisfied: idna<4,>=2.5 in /usr/local/lib/python3.10/dist-packages (from requests<3,>=2->langsmith) (3.7)\n",
            "Requirement already satisfied: urllib3<3,>=1.21.1 in /usr/local/lib/python3.10/dist-packages (from requests<3,>=2->langsmith) (2.0.7)\n",
            "Requirement already satisfied: certifi>=2017.4.17 in /usr/local/lib/python3.10/dist-packages (from requests<3,>=2->langsmith) (2024.2.2)\n",
            "Requirement already satisfied: langchain_openai in /usr/local/lib/python3.10/dist-packages (0.1.7)\n",
            "Requirement already satisfied: langchain-core<0.3,>=0.1.46 in /usr/local/lib/python3.10/dist-packages (from langchain_openai) (0.2.1)\n",
            "Requirement already satisfied: openai<2.0.0,>=1.24.0 in /usr/local/lib/python3.10/dist-packages (from langchain_openai) (1.30.3)\n",
            "Requirement already satisfied: tiktoken<1,>=0.7 in /usr/local/lib/python3.10/dist-packages (from langchain_openai) (0.7.0)\n",
            "Requirement already satisfied: PyYAML>=5.3 in /usr/local/lib/python3.10/dist-packages (from langchain-core<0.3,>=0.1.46->langchain_openai) (6.0.1)\n",
            "Requirement already satisfied: jsonpatch<2.0,>=1.33 in /usr/local/lib/python3.10/dist-packages (from langchain-core<0.3,>=0.1.46->langchain_openai) (1.33)\n",
            "Requirement already satisfied: langsmith<0.2.0,>=0.1.0 in /usr/local/lib/python3.10/dist-packages (from langchain-core<0.3,>=0.1.46->langchain_openai) (0.1.63)\n",
            "Requirement already satisfied: packaging<24.0,>=23.2 in /usr/local/lib/python3.10/dist-packages (from langchain-core<0.3,>=0.1.46->langchain_openai) (23.2)\n",
            "Requirement already satisfied: pydantic<3,>=1 in /usr/local/lib/python3.10/dist-packages (from langchain-core<0.3,>=0.1.46->langchain_openai) (2.7.1)\n",
            "Requirement already satisfied: tenacity<9.0.0,>=8.1.0 in /usr/local/lib/python3.10/dist-packages (from langchain-core<0.3,>=0.1.46->langchain_openai) (8.3.0)\n",
            "Requirement already satisfied: anyio<5,>=3.5.0 in /usr/local/lib/python3.10/dist-packages (from openai<2.0.0,>=1.24.0->langchain_openai) (3.7.1)\n",
            "Requirement already satisfied: distro<2,>=1.7.0 in /usr/lib/python3/dist-packages (from openai<2.0.0,>=1.24.0->langchain_openai) (1.7.0)\n",
            "Requirement already satisfied: httpx<1,>=0.23.0 in /usr/local/lib/python3.10/dist-packages (from openai<2.0.0,>=1.24.0->langchain_openai) (0.27.0)\n",
            "Requirement already satisfied: sniffio in /usr/local/lib/python3.10/dist-packages (from openai<2.0.0,>=1.24.0->langchain_openai) (1.3.1)\n",
            "Requirement already satisfied: tqdm>4 in /usr/local/lib/python3.10/dist-packages (from openai<2.0.0,>=1.24.0->langchain_openai) (4.66.4)\n",
            "Requirement already satisfied: typing-extensions<5,>=4.7 in /usr/local/lib/python3.10/dist-packages (from openai<2.0.0,>=1.24.0->langchain_openai) (4.11.0)\n",
            "Requirement already satisfied: regex>=2022.1.18 in /usr/local/lib/python3.10/dist-packages (from tiktoken<1,>=0.7->langchain_openai) (2023.12.25)\n",
            "Requirement already satisfied: requests>=2.26.0 in /usr/local/lib/python3.10/dist-packages (from tiktoken<1,>=0.7->langchain_openai) (2.31.0)\n",
            "Requirement already satisfied: idna>=2.8 in /usr/local/lib/python3.10/dist-packages (from anyio<5,>=3.5.0->openai<2.0.0,>=1.24.0->langchain_openai) (3.7)\n",
            "Requirement already satisfied: exceptiongroup in /usr/local/lib/python3.10/dist-packages (from anyio<5,>=3.5.0->openai<2.0.0,>=1.24.0->langchain_openai) (1.2.1)\n",
            "Requirement already satisfied: certifi in /usr/local/lib/python3.10/dist-packages (from httpx<1,>=0.23.0->openai<2.0.0,>=1.24.0->langchain_openai) (2024.2.2)\n",
            "Requirement already satisfied: httpcore==1.* in /usr/local/lib/python3.10/dist-packages (from httpx<1,>=0.23.0->openai<2.0.0,>=1.24.0->langchain_openai) (1.0.5)\n",
            "Requirement already satisfied: h11<0.15,>=0.13 in /usr/local/lib/python3.10/dist-packages (from httpcore==1.*->httpx<1,>=0.23.0->openai<2.0.0,>=1.24.0->langchain_openai) (0.14.0)\n",
            "Requirement already satisfied: jsonpointer>=1.9 in /usr/local/lib/python3.10/dist-packages (from jsonpatch<2.0,>=1.33->langchain-core<0.3,>=0.1.46->langchain_openai) (2.4)\n",
            "Requirement already satisfied: orjson<4.0.0,>=3.9.14 in /usr/local/lib/python3.10/dist-packages (from langsmith<0.2.0,>=0.1.0->langchain-core<0.3,>=0.1.46->langchain_openai) (3.10.3)\n",
            "Requirement already satisfied: annotated-types>=0.4.0 in /usr/local/lib/python3.10/dist-packages (from pydantic<3,>=1->langchain-core<0.3,>=0.1.46->langchain_openai) (0.7.0)\n",
            "Requirement already satisfied: pydantic-core==2.18.2 in /usr/local/lib/python3.10/dist-packages (from pydantic<3,>=1->langchain-core<0.3,>=0.1.46->langchain_openai) (2.18.2)\n",
            "Requirement already satisfied: charset-normalizer<4,>=2 in /usr/local/lib/python3.10/dist-packages (from requests>=2.26.0->tiktoken<1,>=0.7->langchain_openai) (3.3.2)\n",
            "Requirement already satisfied: urllib3<3,>=1.21.1 in /usr/local/lib/python3.10/dist-packages (from requests>=2.26.0->tiktoken<1,>=0.7->langchain_openai) (2.0.7)\n",
            "Requirement already satisfied: langchain_chroma in /usr/local/lib/python3.10/dist-packages (0.1.1)\n",
            "Requirement already satisfied: chromadb<0.6.0,>=0.4.0 in /usr/local/lib/python3.10/dist-packages (from langchain_chroma) (0.5.0)\n",
            "Requirement already satisfied: fastapi<1,>=0.95.2 in /usr/local/lib/python3.10/dist-packages (from langchain_chroma) (0.111.0)\n",
            "Requirement already satisfied: langchain-core<0.3,>=0.1.40 in /usr/local/lib/python3.10/dist-packages (from langchain_chroma) (0.2.1)\n",
            "Requirement already satisfied: numpy<2,>=1 in /usr/local/lib/python3.10/dist-packages (from langchain_chroma) (1.25.2)\n",
            "Requirement already satisfied: build>=1.0.3 in /usr/local/lib/python3.10/dist-packages (from chromadb<0.6.0,>=0.4.0->langchain_chroma) (1.2.1)\n",
            "Requirement already satisfied: requests>=2.28 in /usr/local/lib/python3.10/dist-packages (from chromadb<0.6.0,>=0.4.0->langchain_chroma) (2.31.0)\n",
            "Requirement already satisfied: pydantic>=1.9 in /usr/local/lib/python3.10/dist-packages (from chromadb<0.6.0,>=0.4.0->langchain_chroma) (2.7.1)\n",
            "Requirement already satisfied: chroma-hnswlib==0.7.3 in /usr/local/lib/python3.10/dist-packages (from chromadb<0.6.0,>=0.4.0->langchain_chroma) (0.7.3)\n",
            "Requirement already satisfied: uvicorn[standard]>=0.18.3 in /usr/local/lib/python3.10/dist-packages (from chromadb<0.6.0,>=0.4.0->langchain_chroma) (0.29.0)\n",
            "Requirement already satisfied: posthog>=2.4.0 in /usr/local/lib/python3.10/dist-packages (from chromadb<0.6.0,>=0.4.0->langchain_chroma) (3.5.0)\n",
            "Requirement already satisfied: typing-extensions>=4.5.0 in /usr/local/lib/python3.10/dist-packages (from chromadb<0.6.0,>=0.4.0->langchain_chroma) (4.11.0)\n",
            "Requirement already satisfied: onnxruntime>=1.14.1 in /usr/local/lib/python3.10/dist-packages (from chromadb<0.6.0,>=0.4.0->langchain_chroma) (1.18.0)\n",
            "Requirement already satisfied: opentelemetry-api>=1.2.0 in /usr/local/lib/python3.10/dist-packages (from chromadb<0.6.0,>=0.4.0->langchain_chroma) (1.24.0)\n",
            "Requirement already satisfied: opentelemetry-exporter-otlp-proto-grpc>=1.2.0 in /usr/local/lib/python3.10/dist-packages (from chromadb<0.6.0,>=0.4.0->langchain_chroma) (1.24.0)\n",
            "Requirement already satisfied: opentelemetry-instrumentation-fastapi>=0.41b0 in /usr/local/lib/python3.10/dist-packages (from chromadb<0.6.0,>=0.4.0->langchain_chroma) (0.45b0)\n",
            "Requirement already satisfied: opentelemetry-sdk>=1.2.0 in /usr/local/lib/python3.10/dist-packages (from chromadb<0.6.0,>=0.4.0->langchain_chroma) (1.24.0)\n",
            "Requirement already satisfied: tokenizers>=0.13.2 in /usr/local/lib/python3.10/dist-packages (from chromadb<0.6.0,>=0.4.0->langchain_chroma) (0.19.1)\n",
            "Requirement already satisfied: pypika>=0.48.9 in /usr/local/lib/python3.10/dist-packages (from chromadb<0.6.0,>=0.4.0->langchain_chroma) (0.48.9)\n",
            "Requirement already satisfied: tqdm>=4.65.0 in /usr/local/lib/python3.10/dist-packages (from chromadb<0.6.0,>=0.4.0->langchain_chroma) (4.66.4)\n",
            "Requirement already satisfied: overrides>=7.3.1 in /usr/local/lib/python3.10/dist-packages (from chromadb<0.6.0,>=0.4.0->langchain_chroma) (7.7.0)\n",
            "Requirement already satisfied: importlib-resources in /usr/local/lib/python3.10/dist-packages (from chromadb<0.6.0,>=0.4.0->langchain_chroma) (6.4.0)\n",
            "Requirement already satisfied: grpcio>=1.58.0 in /usr/local/lib/python3.10/dist-packages (from chromadb<0.6.0,>=0.4.0->langchain_chroma) (1.64.0)\n",
            "Requirement already satisfied: bcrypt>=4.0.1 in /usr/local/lib/python3.10/dist-packages (from chromadb<0.6.0,>=0.4.0->langchain_chroma) (4.1.3)\n",
            "Requirement already satisfied: typer>=0.9.0 in /usr/local/lib/python3.10/dist-packages (from chromadb<0.6.0,>=0.4.0->langchain_chroma) (0.12.3)\n",
            "Requirement already satisfied: kubernetes>=28.1.0 in /usr/local/lib/python3.10/dist-packages (from chromadb<0.6.0,>=0.4.0->langchain_chroma) (29.0.0)\n",
            "Requirement already satisfied: tenacity>=8.2.3 in /usr/local/lib/python3.10/dist-packages (from chromadb<0.6.0,>=0.4.0->langchain_chroma) (8.3.0)\n",
            "Requirement already satisfied: PyYAML>=6.0.0 in /usr/local/lib/python3.10/dist-packages (from chromadb<0.6.0,>=0.4.0->langchain_chroma) (6.0.1)\n",
            "Requirement already satisfied: mmh3>=4.0.1 in /usr/local/lib/python3.10/dist-packages (from chromadb<0.6.0,>=0.4.0->langchain_chroma) (4.1.0)\n",
            "Requirement already satisfied: orjson>=3.9.12 in /usr/local/lib/python3.10/dist-packages (from chromadb<0.6.0,>=0.4.0->langchain_chroma) (3.10.3)\n",
            "Requirement already satisfied: starlette<0.38.0,>=0.37.2 in /usr/local/lib/python3.10/dist-packages (from fastapi<1,>=0.95.2->langchain_chroma) (0.37.2)\n",
            "Requirement already satisfied: fastapi-cli>=0.0.2 in /usr/local/lib/python3.10/dist-packages (from fastapi<1,>=0.95.2->langchain_chroma) (0.0.4)\n",
            "Requirement already satisfied: httpx>=0.23.0 in /usr/local/lib/python3.10/dist-packages (from fastapi<1,>=0.95.2->langchain_chroma) (0.27.0)\n",
            "Requirement already satisfied: jinja2>=2.11.2 in /usr/local/lib/python3.10/dist-packages (from fastapi<1,>=0.95.2->langchain_chroma) (3.1.4)\n",
            "Requirement already satisfied: python-multipart>=0.0.7 in /usr/local/lib/python3.10/dist-packages (from fastapi<1,>=0.95.2->langchain_chroma) (0.0.9)\n",
            "Requirement already satisfied: ujson!=4.0.2,!=4.1.0,!=4.2.0,!=4.3.0,!=5.0.0,!=5.1.0,>=4.0.1 in /usr/local/lib/python3.10/dist-packages (from fastapi<1,>=0.95.2->langchain_chroma) (5.10.0)\n",
            "Requirement already satisfied: email_validator>=2.0.0 in /usr/local/lib/python3.10/dist-packages (from fastapi<1,>=0.95.2->langchain_chroma) (2.1.1)\n",
            "Requirement already satisfied: jsonpatch<2.0,>=1.33 in /usr/local/lib/python3.10/dist-packages (from langchain-core<0.3,>=0.1.40->langchain_chroma) (1.33)\n",
            "Requirement already satisfied: langsmith<0.2.0,>=0.1.0 in /usr/local/lib/python3.10/dist-packages (from langchain-core<0.3,>=0.1.40->langchain_chroma) (0.1.63)\n",
            "Requirement already satisfied: packaging<24.0,>=23.2 in /usr/local/lib/python3.10/dist-packages (from langchain-core<0.3,>=0.1.40->langchain_chroma) (23.2)\n",
            "Requirement already satisfied: pyproject_hooks in /usr/local/lib/python3.10/dist-packages (from build>=1.0.3->chromadb<0.6.0,>=0.4.0->langchain_chroma) (1.1.0)\n",
            "Requirement already satisfied: tomli>=1.1.0 in /usr/local/lib/python3.10/dist-packages (from build>=1.0.3->chromadb<0.6.0,>=0.4.0->langchain_chroma) (2.0.1)\n",
            "Requirement already satisfied: dnspython>=2.0.0 in /usr/local/lib/python3.10/dist-packages (from email_validator>=2.0.0->fastapi<1,>=0.95.2->langchain_chroma) (2.6.1)\n",
            "Requirement already satisfied: idna>=2.0.0 in /usr/local/lib/python3.10/dist-packages (from email_validator>=2.0.0->fastapi<1,>=0.95.2->langchain_chroma) (3.7)\n",
            "Requirement already satisfied: anyio in /usr/local/lib/python3.10/dist-packages (from httpx>=0.23.0->fastapi<1,>=0.95.2->langchain_chroma) (3.7.1)\n",
            "Requirement already satisfied: certifi in /usr/local/lib/python3.10/dist-packages (from httpx>=0.23.0->fastapi<1,>=0.95.2->langchain_chroma) (2024.2.2)\n",
            "Requirement already satisfied: httpcore==1.* in /usr/local/lib/python3.10/dist-packages (from httpx>=0.23.0->fastapi<1,>=0.95.2->langchain_chroma) (1.0.5)\n",
            "Requirement already satisfied: sniffio in /usr/local/lib/python3.10/dist-packages (from httpx>=0.23.0->fastapi<1,>=0.95.2->langchain_chroma) (1.3.1)\n",
            "Requirement already satisfied: h11<0.15,>=0.13 in /usr/local/lib/python3.10/dist-packages (from httpcore==1.*->httpx>=0.23.0->fastapi<1,>=0.95.2->langchain_chroma) (0.14.0)\n",
            "Requirement already satisfied: MarkupSafe>=2.0 in /usr/local/lib/python3.10/dist-packages (from jinja2>=2.11.2->fastapi<1,>=0.95.2->langchain_chroma) (2.1.5)\n",
            "Requirement already satisfied: jsonpointer>=1.9 in /usr/local/lib/python3.10/dist-packages (from jsonpatch<2.0,>=1.33->langchain-core<0.3,>=0.1.40->langchain_chroma) (2.4)\n",
            "Requirement already satisfied: six>=1.9.0 in /usr/local/lib/python3.10/dist-packages (from kubernetes>=28.1.0->chromadb<0.6.0,>=0.4.0->langchain_chroma) (1.16.0)\n",
            "Requirement already satisfied: python-dateutil>=2.5.3 in /usr/local/lib/python3.10/dist-packages (from kubernetes>=28.1.0->chromadb<0.6.0,>=0.4.0->langchain_chroma) (2.8.2)\n",
            "Requirement already satisfied: google-auth>=1.0.1 in /usr/local/lib/python3.10/dist-packages (from kubernetes>=28.1.0->chromadb<0.6.0,>=0.4.0->langchain_chroma) (2.27.0)\n",
            "Requirement already satisfied: websocket-client!=0.40.0,!=0.41.*,!=0.42.*,>=0.32.0 in /usr/local/lib/python3.10/dist-packages (from kubernetes>=28.1.0->chromadb<0.6.0,>=0.4.0->langchain_chroma) (1.8.0)\n",
            "Requirement already satisfied: requests-oauthlib in /usr/local/lib/python3.10/dist-packages (from kubernetes>=28.1.0->chromadb<0.6.0,>=0.4.0->langchain_chroma) (1.3.1)\n",
            "Requirement already satisfied: oauthlib>=3.2.2 in /usr/local/lib/python3.10/dist-packages (from kubernetes>=28.1.0->chromadb<0.6.0,>=0.4.0->langchain_chroma) (3.2.2)\n",
            "Requirement already satisfied: urllib3>=1.24.2 in /usr/local/lib/python3.10/dist-packages (from kubernetes>=28.1.0->chromadb<0.6.0,>=0.4.0->langchain_chroma) (2.0.7)\n",
            "Requirement already satisfied: coloredlogs in /usr/local/lib/python3.10/dist-packages (from onnxruntime>=1.14.1->chromadb<0.6.0,>=0.4.0->langchain_chroma) (15.0.1)\n",
            "Requirement already satisfied: flatbuffers in /usr/local/lib/python3.10/dist-packages (from onnxruntime>=1.14.1->chromadb<0.6.0,>=0.4.0->langchain_chroma) (24.3.25)\n",
            "Requirement already satisfied: protobuf in /usr/local/lib/python3.10/dist-packages (from onnxruntime>=1.14.1->chromadb<0.6.0,>=0.4.0->langchain_chroma) (3.20.3)\n",
            "Requirement already satisfied: sympy in /usr/local/lib/python3.10/dist-packages (from onnxruntime>=1.14.1->chromadb<0.6.0,>=0.4.0->langchain_chroma) (1.12)\n",
            "Requirement already satisfied: deprecated>=1.2.6 in /usr/local/lib/python3.10/dist-packages (from opentelemetry-api>=1.2.0->chromadb<0.6.0,>=0.4.0->langchain_chroma) (1.2.14)\n",
            "Requirement already satisfied: importlib-metadata<=7.0,>=6.0 in /usr/local/lib/python3.10/dist-packages (from opentelemetry-api>=1.2.0->chromadb<0.6.0,>=0.4.0->langchain_chroma) (7.0.0)\n",
            "Requirement already satisfied: googleapis-common-protos~=1.52 in /usr/local/lib/python3.10/dist-packages (from opentelemetry-exporter-otlp-proto-grpc>=1.2.0->chromadb<0.6.0,>=0.4.0->langchain_chroma) (1.63.0)\n",
            "Requirement already satisfied: opentelemetry-exporter-otlp-proto-common==1.24.0 in /usr/local/lib/python3.10/dist-packages (from opentelemetry-exporter-otlp-proto-grpc>=1.2.0->chromadb<0.6.0,>=0.4.0->langchain_chroma) (1.24.0)\n",
            "Requirement already satisfied: opentelemetry-proto==1.24.0 in /usr/local/lib/python3.10/dist-packages (from opentelemetry-exporter-otlp-proto-grpc>=1.2.0->chromadb<0.6.0,>=0.4.0->langchain_chroma) (1.24.0)\n",
            "Requirement already satisfied: opentelemetry-instrumentation-asgi==0.45b0 in /usr/local/lib/python3.10/dist-packages (from opentelemetry-instrumentation-fastapi>=0.41b0->chromadb<0.6.0,>=0.4.0->langchain_chroma) (0.45b0)\n",
            "Requirement already satisfied: opentelemetry-instrumentation==0.45b0 in /usr/local/lib/python3.10/dist-packages (from opentelemetry-instrumentation-fastapi>=0.41b0->chromadb<0.6.0,>=0.4.0->langchain_chroma) (0.45b0)\n",
            "Requirement already satisfied: opentelemetry-semantic-conventions==0.45b0 in /usr/local/lib/python3.10/dist-packages (from opentelemetry-instrumentation-fastapi>=0.41b0->chromadb<0.6.0,>=0.4.0->langchain_chroma) (0.45b0)\n",
            "Requirement already satisfied: opentelemetry-util-http==0.45b0 in /usr/local/lib/python3.10/dist-packages (from opentelemetry-instrumentation-fastapi>=0.41b0->chromadb<0.6.0,>=0.4.0->langchain_chroma) (0.45b0)\n",
            "Requirement already satisfied: setuptools>=16.0 in /usr/local/lib/python3.10/dist-packages (from opentelemetry-instrumentation==0.45b0->opentelemetry-instrumentation-fastapi>=0.41b0->chromadb<0.6.0,>=0.4.0->langchain_chroma) (67.7.2)\n",
            "Requirement already satisfied: wrapt<2.0.0,>=1.0.0 in /usr/local/lib/python3.10/dist-packages (from opentelemetry-instrumentation==0.45b0->opentelemetry-instrumentation-fastapi>=0.41b0->chromadb<0.6.0,>=0.4.0->langchain_chroma) (1.14.1)\n",
            "Requirement already satisfied: asgiref~=3.0 in /usr/local/lib/python3.10/dist-packages (from opentelemetry-instrumentation-asgi==0.45b0->opentelemetry-instrumentation-fastapi>=0.41b0->chromadb<0.6.0,>=0.4.0->langchain_chroma) (3.8.1)\n",
            "Requirement already satisfied: monotonic>=1.5 in /usr/local/lib/python3.10/dist-packages (from posthog>=2.4.0->chromadb<0.6.0,>=0.4.0->langchain_chroma) (1.6)\n",
            "Requirement already satisfied: backoff>=1.10.0 in /usr/local/lib/python3.10/dist-packages (from posthog>=2.4.0->chromadb<0.6.0,>=0.4.0->langchain_chroma) (2.2.1)\n",
            "Requirement already satisfied: annotated-types>=0.4.0 in /usr/local/lib/python3.10/dist-packages (from pydantic>=1.9->chromadb<0.6.0,>=0.4.0->langchain_chroma) (0.7.0)\n",
            "Requirement already satisfied: pydantic-core==2.18.2 in /usr/local/lib/python3.10/dist-packages (from pydantic>=1.9->chromadb<0.6.0,>=0.4.0->langchain_chroma) (2.18.2)\n",
            "Requirement already satisfied: charset-normalizer<4,>=2 in /usr/local/lib/python3.10/dist-packages (from requests>=2.28->chromadb<0.6.0,>=0.4.0->langchain_chroma) (3.3.2)\n",
            "Requirement already satisfied: huggingface-hub<1.0,>=0.16.4 in /usr/local/lib/python3.10/dist-packages (from tokenizers>=0.13.2->chromadb<0.6.0,>=0.4.0->langchain_chroma) (0.23.1)\n",
            "Requirement already satisfied: click>=8.0.0 in /usr/local/lib/python3.10/dist-packages (from typer>=0.9.0->chromadb<0.6.0,>=0.4.0->langchain_chroma) (8.1.7)\n",
            "Requirement already satisfied: shellingham>=1.3.0 in /usr/local/lib/python3.10/dist-packages (from typer>=0.9.0->chromadb<0.6.0,>=0.4.0->langchain_chroma) (1.5.4)\n",
            "Requirement already satisfied: rich>=10.11.0 in /usr/local/lib/python3.10/dist-packages (from typer>=0.9.0->chromadb<0.6.0,>=0.4.0->langchain_chroma) (13.7.1)\n",
            "Requirement already satisfied: httptools>=0.5.0 in /usr/local/lib/python3.10/dist-packages (from uvicorn[standard]>=0.18.3->chromadb<0.6.0,>=0.4.0->langchain_chroma) (0.6.1)\n",
            "Requirement already satisfied: python-dotenv>=0.13 in /usr/local/lib/python3.10/dist-packages (from uvicorn[standard]>=0.18.3->chromadb<0.6.0,>=0.4.0->langchain_chroma) (1.0.1)\n",
            "Requirement already satisfied: uvloop!=0.15.0,!=0.15.1,>=0.14.0 in /usr/local/lib/python3.10/dist-packages (from uvicorn[standard]>=0.18.3->chromadb<0.6.0,>=0.4.0->langchain_chroma) (0.19.0)\n",
            "Requirement already satisfied: watchfiles>=0.13 in /usr/local/lib/python3.10/dist-packages (from uvicorn[standard]>=0.18.3->chromadb<0.6.0,>=0.4.0->langchain_chroma) (0.21.0)\n",
            "Requirement already satisfied: websockets>=10.4 in /usr/local/lib/python3.10/dist-packages (from uvicorn[standard]>=0.18.3->chromadb<0.6.0,>=0.4.0->langchain_chroma) (12.0)\n",
            "Requirement already satisfied: exceptiongroup in /usr/local/lib/python3.10/dist-packages (from anyio->httpx>=0.23.0->fastapi<1,>=0.95.2->langchain_chroma) (1.2.1)\n",
            "Requirement already satisfied: cachetools<6.0,>=2.0.0 in /usr/local/lib/python3.10/dist-packages (from google-auth>=1.0.1->kubernetes>=28.1.0->chromadb<0.6.0,>=0.4.0->langchain_chroma) (5.3.3)\n",
            "Requirement already satisfied: pyasn1-modules>=0.2.1 in /usr/local/lib/python3.10/dist-packages (from google-auth>=1.0.1->kubernetes>=28.1.0->chromadb<0.6.0,>=0.4.0->langchain_chroma) (0.4.0)\n",
            "Requirement already satisfied: rsa<5,>=3.1.4 in /usr/local/lib/python3.10/dist-packages (from google-auth>=1.0.1->kubernetes>=28.1.0->chromadb<0.6.0,>=0.4.0->langchain_chroma) (4.9)\n",
            "Requirement already satisfied: filelock in /usr/local/lib/python3.10/dist-packages (from huggingface-hub<1.0,>=0.16.4->tokenizers>=0.13.2->chromadb<0.6.0,>=0.4.0->langchain_chroma) (3.14.0)\n",
            "Requirement already satisfied: fsspec>=2023.5.0 in /usr/local/lib/python3.10/dist-packages (from huggingface-hub<1.0,>=0.16.4->tokenizers>=0.13.2->chromadb<0.6.0,>=0.4.0->langchain_chroma) (2023.6.0)\n",
            "Requirement already satisfied: zipp>=0.5 in /usr/local/lib/python3.10/dist-packages (from importlib-metadata<=7.0,>=6.0->opentelemetry-api>=1.2.0->chromadb<0.6.0,>=0.4.0->langchain_chroma) (3.18.2)\n",
            "Requirement already satisfied: markdown-it-py>=2.2.0 in /usr/local/lib/python3.10/dist-packages (from rich>=10.11.0->typer>=0.9.0->chromadb<0.6.0,>=0.4.0->langchain_chroma) (3.0.0)\n",
            "Requirement already satisfied: pygments<3.0.0,>=2.13.0 in /usr/local/lib/python3.10/dist-packages (from rich>=10.11.0->typer>=0.9.0->chromadb<0.6.0,>=0.4.0->langchain_chroma) (2.16.1)\n",
            "Requirement already satisfied: humanfriendly>=9.1 in /usr/local/lib/python3.10/dist-packages (from coloredlogs->onnxruntime>=1.14.1->chromadb<0.6.0,>=0.4.0->langchain_chroma) (10.0)\n",
            "Requirement already satisfied: mpmath>=0.19 in /usr/local/lib/python3.10/dist-packages (from sympy->onnxruntime>=1.14.1->chromadb<0.6.0,>=0.4.0->langchain_chroma) (1.3.0)\n",
            "Requirement already satisfied: mdurl~=0.1 in /usr/local/lib/python3.10/dist-packages (from markdown-it-py>=2.2.0->rich>=10.11.0->typer>=0.9.0->chromadb<0.6.0,>=0.4.0->langchain_chroma) (0.1.2)\n",
            "Requirement already satisfied: pyasn1<0.7.0,>=0.4.6 in /usr/local/lib/python3.10/dist-packages (from pyasn1-modules>=0.2.1->google-auth>=1.0.1->kubernetes>=28.1.0->chromadb<0.6.0,>=0.4.0->langchain_chroma) (0.6.0)\n",
            "Requirement already satisfied: langchain_community in /usr/local/lib/python3.10/dist-packages (0.2.1)\n",
            "Requirement already satisfied: PyYAML>=5.3 in /usr/local/lib/python3.10/dist-packages (from langchain_community) (6.0.1)\n",
            "Requirement already satisfied: SQLAlchemy<3,>=1.4 in /usr/local/lib/python3.10/dist-packages (from langchain_community) (2.0.30)\n",
            "Requirement already satisfied: aiohttp<4.0.0,>=3.8.3 in /usr/local/lib/python3.10/dist-packages (from langchain_community) (3.9.5)\n",
            "Requirement already satisfied: dataclasses-json<0.7,>=0.5.7 in /usr/local/lib/python3.10/dist-packages (from langchain_community) (0.6.6)\n",
            "Requirement already satisfied: langchain<0.3.0,>=0.2.0 in /usr/local/lib/python3.10/dist-packages (from langchain_community) (0.2.1)\n",
            "Requirement already satisfied: langchain-core<0.3.0,>=0.2.0 in /usr/local/lib/python3.10/dist-packages (from langchain_community) (0.2.1)\n",
            "Requirement already satisfied: langsmith<0.2.0,>=0.1.0 in /usr/local/lib/python3.10/dist-packages (from langchain_community) (0.1.63)\n",
            "Requirement already satisfied: numpy<2,>=1 in /usr/local/lib/python3.10/dist-packages (from langchain_community) (1.25.2)\n",
            "Requirement already satisfied: requests<3,>=2 in /usr/local/lib/python3.10/dist-packages (from langchain_community) (2.31.0)\n",
            "Requirement already satisfied: tenacity<9.0.0,>=8.1.0 in /usr/local/lib/python3.10/dist-packages (from langchain_community) (8.3.0)\n",
            "Requirement already satisfied: aiosignal>=1.1.2 in /usr/local/lib/python3.10/dist-packages (from aiohttp<4.0.0,>=3.8.3->langchain_community) (1.3.1)\n",
            "Requirement already satisfied: attrs>=17.3.0 in /usr/local/lib/python3.10/dist-packages (from aiohttp<4.0.0,>=3.8.3->langchain_community) (23.2.0)\n",
            "Requirement already satisfied: frozenlist>=1.1.1 in /usr/local/lib/python3.10/dist-packages (from aiohttp<4.0.0,>=3.8.3->langchain_community) (1.4.1)\n",
            "Requirement already satisfied: multidict<7.0,>=4.5 in /usr/local/lib/python3.10/dist-packages (from aiohttp<4.0.0,>=3.8.3->langchain_community) (6.0.5)\n",
            "Requirement already satisfied: yarl<2.0,>=1.0 in /usr/local/lib/python3.10/dist-packages (from aiohttp<4.0.0,>=3.8.3->langchain_community) (1.9.4)\n",
            "Requirement already satisfied: async-timeout<5.0,>=4.0 in /usr/local/lib/python3.10/dist-packages (from aiohttp<4.0.0,>=3.8.3->langchain_community) (4.0.3)\n",
            "Requirement already satisfied: marshmallow<4.0.0,>=3.18.0 in /usr/local/lib/python3.10/dist-packages (from dataclasses-json<0.7,>=0.5.7->langchain_community) (3.21.2)\n",
            "Requirement already satisfied: typing-inspect<1,>=0.4.0 in /usr/local/lib/python3.10/dist-packages (from dataclasses-json<0.7,>=0.5.7->langchain_community) (0.9.0)\n",
            "Requirement already satisfied: langchain-text-splitters<0.3.0,>=0.2.0 in /usr/local/lib/python3.10/dist-packages (from langchain<0.3.0,>=0.2.0->langchain_community) (0.2.0)\n",
            "Requirement already satisfied: pydantic<3,>=1 in /usr/local/lib/python3.10/dist-packages (from langchain<0.3.0,>=0.2.0->langchain_community) (2.7.1)\n",
            "Requirement already satisfied: jsonpatch<2.0,>=1.33 in /usr/local/lib/python3.10/dist-packages (from langchain-core<0.3.0,>=0.2.0->langchain_community) (1.33)\n",
            "Requirement already satisfied: packaging<24.0,>=23.2 in /usr/local/lib/python3.10/dist-packages (from langchain-core<0.3.0,>=0.2.0->langchain_community) (23.2)\n",
            "Requirement already satisfied: orjson<4.0.0,>=3.9.14 in /usr/local/lib/python3.10/dist-packages (from langsmith<0.2.0,>=0.1.0->langchain_community) (3.10.3)\n",
            "Requirement already satisfied: charset-normalizer<4,>=2 in /usr/local/lib/python3.10/dist-packages (from requests<3,>=2->langchain_community) (3.3.2)\n",
            "Requirement already satisfied: idna<4,>=2.5 in /usr/local/lib/python3.10/dist-packages (from requests<3,>=2->langchain_community) (3.7)\n",
            "Requirement already satisfied: urllib3<3,>=1.21.1 in /usr/local/lib/python3.10/dist-packages (from requests<3,>=2->langchain_community) (2.0.7)\n",
            "Requirement already satisfied: certifi>=2017.4.17 in /usr/local/lib/python3.10/dist-packages (from requests<3,>=2->langchain_community) (2024.2.2)\n",
            "Requirement already satisfied: typing-extensions>=4.6.0 in /usr/local/lib/python3.10/dist-packages (from SQLAlchemy<3,>=1.4->langchain_community) (4.11.0)\n",
            "Requirement already satisfied: greenlet!=0.4.17 in /usr/local/lib/python3.10/dist-packages (from SQLAlchemy<3,>=1.4->langchain_community) (3.0.3)\n",
            "Requirement already satisfied: jsonpointer>=1.9 in /usr/local/lib/python3.10/dist-packages (from jsonpatch<2.0,>=1.33->langchain-core<0.3.0,>=0.2.0->langchain_community) (2.4)\n",
            "Requirement already satisfied: annotated-types>=0.4.0 in /usr/local/lib/python3.10/dist-packages (from pydantic<3,>=1->langchain<0.3.0,>=0.2.0->langchain_community) (0.7.0)\n",
            "Requirement already satisfied: pydantic-core==2.18.2 in /usr/local/lib/python3.10/dist-packages (from pydantic<3,>=1->langchain<0.3.0,>=0.2.0->langchain_community) (2.18.2)\n",
            "Requirement already satisfied: mypy-extensions>=0.3.0 in /usr/local/lib/python3.10/dist-packages (from typing-inspect<1,>=0.4.0->dataclasses-json<0.7,>=0.5.7->langchain_community) (1.0.0)\n",
            "Collecting langchainhub\n",
            "  Downloading langchainhub-0.1.16-py3-none-any.whl (4.8 kB)\n",
            "Requirement already satisfied: requests<3,>=2 in /usr/local/lib/python3.10/dist-packages (from langchainhub) (2.31.0)\n",
            "Collecting types-requests<3.0.0.0,>=2.31.0.2 (from langchainhub)\n",
            "  Downloading types_requests-2.32.0.20240523-py3-none-any.whl (15 kB)\n",
            "Requirement already satisfied: charset-normalizer<4,>=2 in /usr/local/lib/python3.10/dist-packages (from requests<3,>=2->langchainhub) (3.3.2)\n",
            "Requirement already satisfied: idna<4,>=2.5 in /usr/local/lib/python3.10/dist-packages (from requests<3,>=2->langchainhub) (3.7)\n",
            "Requirement already satisfied: urllib3<3,>=1.21.1 in /usr/local/lib/python3.10/dist-packages (from requests<3,>=2->langchainhub) (2.0.7)\n",
            "Requirement already satisfied: certifi>=2017.4.17 in /usr/local/lib/python3.10/dist-packages (from requests<3,>=2->langchainhub) (2024.2.2)\n",
            "Installing collected packages: types-requests, langchainhub\n",
            "Successfully installed langchainhub-0.1.16 types-requests-2.32.0.20240523\n"
          ]
        }
      ],
      "source": [
        "!pip install langchain\n",
        "!pip install langsmith\n",
        "!pip install langchain_openai\n",
        "!pip install langchain_chroma\n",
        "!pip install langchain_community\n",
        "!pip install langchainhub"
      ]
    },
    {
      "cell_type": "code",
      "source": [
        "import os\n",
        "import getpass\n",
        "os.environ['OPENAI_API_KEY'] = getpass.getpass()\n",
        "\n",
        "from langchain_openai import ChatOpenAI\n",
        "llm = ChatOpenAI(base_url=\"https://api.chatanywhere.tech/v1\",model=\"gpt-3.5-turbo-0125\")"
      ],
      "metadata": {
        "colab": {
          "base_uri": "https://localhost:8080/"
        },
        "id": "ppPnr5VMkfdh",
        "outputId": "66debead-585e-4855-c5ae-5df1b6a97ddd"
      },
      "execution_count": 6,
      "outputs": [
        {
          "name": "stdout",
          "output_type": "stream",
          "text": [
            "··········\n"
          ]
        }
      ]
    },
    {
      "cell_type": "code",
      "source": [
        "from langchain_text_splitters import RecursiveCharacterTextSplitter\n",
        "with open(\"passage.txt\", \"r\", encoding=\"utf-8\") as f:\n",
        "  passage = f.read()\n",
        "print(len(passage))\n",
        "text_splitter = RecursiveCharacterTextSplitter(\n",
        "    chunk_size=30,\n",
        "    chunk_overlap=5,\n",
        "    separators=[\n",
        "        \"\\n\\n\",\n",
        "        \"\\n\",\n",
        "        \" \",\n",
        "        \".\",\n",
        "        \",\",\n",
        "        \"\\u200b\",  # Zero-width space\n",
        "        \"\\uff0c\",  # Fullwidth comma\n",
        "        \"\\u3001\",  # Ideographic comma\n",
        "        \"\\uff0e\",  # Fullwidth full stop\n",
        "        \"\\u3002\",  # Ideographic full stop\n",
        "        \"\",\n",
        "    ],\n",
        "    # Existing args\n",
        ")\n",
        "texts = text_splitter.create_documents([passage])\n",
        "print(texts[0])\n",
        "print(texts[1])"
      ],
      "metadata": {
        "colab": {
          "base_uri": "https://localhost:8080/"
        },
        "id": "gdCIqRramRlC",
        "outputId": "8b27a3a1-b649-4b42-835b-a1b0cdb886a8"
      },
      "execution_count": 68,
      "outputs": [
        {
          "output_type": "stream",
          "name": "stdout",
          "text": [
            "6239\n",
            "page_content='淑德延公胄，宜家接帝姻。桂宫男掌仆，兰殿女升嫔。恩泽昭前命'\n",
            "page_content='，盈虚变此辰。万年今已矣，彤管列何人。虫响乱啾啾'\n"
          ]
        }
      ]
    },
    {
      "cell_type": "code",
      "source": [
        "from langchain_chroma import Chroma\n",
        "from langchain_openai import OpenAIEmbeddings\n",
        "\n",
        "vectorstore = Chroma.from_documents(documents=texts, embedding=OpenAIEmbeddings(base_url=\"https://api.chatanywhere.tech/v1\"))"
      ],
      "metadata": {
        "id": "WO7EQDzjnzef"
      },
      "execution_count": 69,
      "outputs": []
    },
    {
      "cell_type": "code",
      "source": [
        "retriever = vectorstore.as_retriever(search_type=\"similarity\", search_kwargs={\"k\": 6})\n",
        "\n",
        "retrieved_docs = retriever.invoke(\"请你围绕流水写一首诗歌\")\n",
        "\n",
        "print(retrieved_docs)"
      ],
      "metadata": {
        "colab": {
          "base_uri": "https://localhost:8080/"
        },
        "id": "F0sIxx_4oDuH",
        "outputId": "d5edda5d-0b99-4ee9-b548-23594dfc2fd0"
      },
      "execution_count": 40,
      "outputs": [
        {
          "output_type": "stream",
          "name": "stdout",
          "text": [
            "[Document(page_content='，春风送客使人悲。怨别自惊千里外，论交却忆十年时。云开汶水孤帆远，路绕梁山匹马迟。此地从来可乘兴，留君不住益凄其。高馆张灯酒复清，夜钟残月雁归声。只言啼鸟堪求侣，无那春风欲送行。黄河曲里沙为岸，白马津边柳向城。莫怨他乡暂离别，知君到处有逢迎。嗟君此别意何如，驻马衔桮问谪居。巫峡啼猿数行泪，衡阳归雁几封书。青枫江上秋天远，白帝城边古木疎。圣代即今多雨露，暂时分手莫踌躇。同官载酒出郊圻，晴日东驰雁北飞。隔岸春云邀翰墨，傍簷垂柳报芳菲。池边转觉虚无尽，台上偏宜酩酊归。州县徒劳那可度，后时连骑莫相违。北楼西望满晴空，积水连山胜画中。湍上急流声若箭，城头残月势如弓。垂竿已羡磻谿老，体道犹思塞上翁。为问边庭更何事，至今羌笛怨无穷。传君昨夜怅然悲，独坐新斋木落时。逸气旧来凌燕雀，高才何得混妍媸。迹留黄绶人多叹，心在青云世莫知。不是鬼神无正直，从来州县有瑕疵。节物惊心两鬓华，东篱空绕未开花。百年将半仕三已，五亩就荒天一涯。岂有白衣来剥啄，一从乌帽自攲斜。真成独坐空搔首，门柳萧萧噪暮鸦。德以精灵降，时膺梦寐求。苍生谢安石，天子富平侯。尊俎资高论，岩廊挹大猷。相门连户牖，卿族嗣弓裘。豁达云开霁，清明月映秋。能为吉甫颂，善用子房筹。阶砌思攀陟，门阑尚阻修。高山不易仰，大匠本难投。迹与松乔合，心缘启沃留。公才山吏部，书癖杜荆州。幸沐千年圣，何辞一尉休。折腰知宠辱，廻首见沈浮。天地庄生马，江湖范蠡舟。逍遥堪自乐，浩荡信无忧。去此从黄绶，归欤任白头。风尘与霄汉，瞻望日悠悠。风俗登淳古，君臣挹大庭。深沈谋九德，密勿契千龄。独立调元气，清心豁窅冥。本枝连帝系，长策冠生灵。傅说明殷道，萧何律汉刑。钧衡持国柄，柱石总朝经。隐轸江山藻，氛氲鼎鼐铭。兴中皆白雪，身外即丹青。江海呼穷鸟，诗书问聚萤。吹嘘成羽翼，提握动芳馨。倚伏悲还笑，栖迟醉复醒。恩荣初就列，含育忝宵形。有窃丘山惠，无时枕席宁。壮心瞻落景，生事感浮萍。莫以才难用，终期善易听。未为门下客，徒谢少微星。遥传副丞相，昨日破西蕃。作气群山动，扬军大斾翻。奇兵邀转战，连孥绝归奔。泉喷诸戎血，风驱死虏魂。头飞攒万戟，面缚聚辕门。鬼哭黄埃暮，天愁白日昏。石城与岩险，铁骑皆云屯。长策一言决，高踪百代存。威棱慑沙漠，忠义感乾坤。老将黯无色，儒生安敢论。解围凭庙算，止杀报君恩。唯有关河渺，苍茫空树墩。云纪轩皇代，星高太白年。庙堂咨上策，幕府制中权。盘石藩维固，升坛礼乐先。国章荣印绶，公服贵貂蝉。乐善旌深德，输忠格上玄。剪桐光宠锡，题劒美贞坚。圣祚雄图广，师贞武德虔。雷霆七校发，旌斾五营连。华省征群乂，霜台举二贤。岂伊公望远，曾是茂才迁。并秉韬钤术，兼该翰墨筵。帝思麟阁像，臣献柏梁篇。振玉登辽甸，𪭢金历蓟壖。度河飞羽檄，横海泛楼船。北伐声逾迈，东征务以专。讲戎喧涿野，料敌静居延。军势持三略，兵戎自九天。朝瞻授钺去，时听偃戈旋。大漠风沙里，长城雨雪边。云端临碣石，波际隐朝鲜。夜壁冲高斗，寒空驻彩旃。倚弓玄兔月，饮马白狼川。庶物随交泰，苍生解倒悬。四郊增气象，万里绝风烟。关塞鸿勋著，京华甲第全。落梅横吹后，春色凯歌前。直道常兼济，微才独弃捐。曳裾诚已矣，投笔尚凄然。作赋同元淑，能诗匪仲宣。云霄不可望，空欲仰神仙。颂美驰千古，钦贤仰大猷。晋公标逸气，汾水注长流。神与公忠节，天生将相俦。青云本自负，赤县独推尤。御史风逾劲，郎官草屡修。鹓鸾粉署起，鹰隼柏台秋。出入交三事，飞鸣揖五侯。军书陈上策，廷议借前筹。肃肃趋朝列，雝雝引帝求。一麾俄出守，千里再分忧。不改任棠水，仍传晏子裘。歌谣随举扇，旌斾逐鸣驺。郡国长河绕，川原大野幽。地连尧泰岳，山向禹青州。汶上春帆渡，秦亭晚日愁。遗墟当少昊，悬象逼奎娄。即此逢清鉴，终然喜暗投。叨承解榻礼，更得问缣游。高兴陪登陟，嘉言忝献酬。观棋知战胜，探象会冥搜。眺听情何限，冲融惠勿休。祗应齐语默，宁肯问沈浮。然诺长怀季，栖遑輙累丘。平生感知己，方寸岂悠悠。飘泊怀书客，迟回此路隅。问津惊弃置，投刺忽踟蹰。方伯恩弥重，苍生咏已苏。郡称廉叔度，朝议管夷吾。乃继三台侧，仍将四岳俱。江山澄气象，崖谷倚冰壶。诏宠金门策，官荣叶县凫。擢才登粉署，飞步蹑云衢。起草徵调墨，焚香即宴娱。光华扬盛矣，霄汉在兹乎。隐轸推公望，逶迤协帝俞。轩车辞魏阙，旌节副幽都。始佩仙郎印，俄兼太守符。尤多蜀郡理，更得颍川谟。城邑推雄镇，山川列简图。旧燕当绝漠，全赵对平芜。旷野何弥漫，长亭复郁纡。始泉遗俗近，活水战场无。月换思乡陌，星廻记斗枢。岁容归万象，和气发鸿罏。沦落而谁遇，栖遑有是夫。不才羞拥肿，干禄谢侏儒。契阔慙行迈，羁离忆友于。田园同季子，储蓄异陶朱。方欲呈高义，吹嘘揖大巫。永怀吐肝胆，犹惮阻荣枯。解榻情何限，忘言道未殊。从来贵缝掖，应是念穷途。化塔屹中起，孤高宜上跻。铁冠雄赏眺，金界宠招携。空色在轩户，边声连鼓鼙。天寒万里北'), Document(page_content='，拔劒四顾心茫然。欲渡黄河冰塞川，将登太行雪暗天。闲来垂钓坐溪上，忽复乘舟梦日边。行路难，行路难，多岐路，今安在？长风破浪会有时，直挂云帆济沧海。大道如青天，我独不得出。羞逐长安社中儿，赤鸡白狗赌梨栗。弹劒作歌奏苦声，曳裾王门不称情。淮阴市井笑韩信，汉朝公卿忌贾生。君不见昔时燕家重郭隗，拥篲折腰无嫌猜。剧辛乐毅感恩分，输肝剖胆效英才。昭王白骨萦蔓草，谁人更扫黄金台。行路难，归去来。有耳莫洗颍川水，有口莫食首阳蕨。含光混世贵无名，何用孤高比云月。吾观自古贤达人，功成不退皆殒身。子胥既弃吴江上，屈原终投湘水滨。陆机才多岂自保，李斯税驾苦不早。华亭鹤唳讵可闻，上蔡苍鹰何足道？君不见吴中张翰称达士，秋风忽忆江东行。且乐生前一杯酒，何须身后千载名。君不见古来烧水银，变作北邙山上尘。藕丝挂身在虚空，欲落不落愁杀人。睢水英雄多血刃，建章宫阙成灰烬。淮王身死桂枝折，徐氏一去音书绝。行路难，行路难，生死皆由天。秦皇汉武遭下脱，汝独何人学神仙。君不见担雪塞井徒用力，炊砂作饭岂堪吃。一生肝胆向人尽，相识不如不相识。冬青树上挂凌宵，岁[晏]花凋树不凋。凡物各自有根本，种禾终不生豆苗。行路难，行路难，何处是平道？中心无事当富贵，今日觉君颜色好。君不见少年头上如云发，少壮如云老如雪。岂知灌顶有醍醐，能使清凉头不热。吕梁之水挂飞流，鼋鼍蛟蜃不敢游。少年恃险若平地，独倚长劒凌清秋。行路难，行路难，昔少年，今已老。前朝竹帛事皆空，日暮牛羊古城草。汉家名臣杨德祖，四代五公享茅土。父兄子弟绾银黄，跃马鸣珂朝建章。火浣单衣绣方领，茱萸锦带玉盘囊。宾客填街复满坐，片言出口生辉光。世人逐势争奔走，沥胆隳肝惟恐后。当时一顾生青云，自谓生死长随君。一朝谢病还乡里，穷巷苍茫绝知己。秋风落叶闭重门，昨日论交竟谁是。薄俗嗟嗟难重陈，深山麋鹿下为邻。鲁连所以蹈沧海，古往今来称达人。君不见富家翁，昔时贫贱谁比数。一朝金多结豪贵，万事胜人健如虎。子孙成长满眼前，妻能管弦妾能舞。自矜一朝忽如此，却笑傍人独悲苦。东邻少年安所如，席门穷巷出无车。长安少年不少钱，能骑骏马鸣金鞭。五侯相逢大道边，美人弦管争留连。黄金如斗不敢惜，片言如山莫弃捐。安知顦顇读书者，暮宿虚台私自怜。湘东行人长叹息，十年离家归未得。弊裘羸马苦难行，童仆饥寒少筋力。君不见床头黄金尽，壮士无颜色。龙蟠泥中未有云，不能生彼升天翼。莫言行路难，夷狄如中国。谓言骨肉亲，中门如异域。出处全在人，路亦无通塞。门前两条辙，何处去不得。荆山之白玉兮。良工雕琢双环连，月蚀中央镜心穿。故人赠妾初相结，恩在环中寻不绝。人情厚薄苦须臾，昔似连环今似玦。连环可碎不可离，如何物在人自移。上客勿遽欢，听妾歌路难。傍人见环环可怜，不知中有长恨端。君不见夸父逐日窥虞渊，跳踉北海超昆仑。披霄决汉出沆漭，瞥裂左右遗星辰。须臾力尽道渴死，狐鼠蜂蚁争噬吞。北方竫人长九寸，开口抵掌更笑喧。啾啾饮食滴与粒，生死亦足终天年。睢盱大志少成遂，坐使儿女相悲怜。虞衡斤斧罗千山，工命采斫杙与椽。深林土翦十取一，百牛连鞅摧双辕。万围千寻妨道路，东西蹶倒山火焚。遗余毫末不见保，𨅬砾磵壑何当存。群材未成质已夭，突兀𡷸豁空岩峦。柏梁天灾武库火，匠石狼顾相愁冤。君不见南山栋梁益稀少，爱材养育谁复论。飞雪断道冰成梁，侯家炽炭雕玉房。蟠龙吐耀虎喙张，熊蹲豹掷争低昂。攒峦丛崿射朱光，丹霞翠雾飘奇香。美人四向回明珰，雪山冰谷晞太阳。星躔奔走不得止，奄忽双燕栖虹梁。风台露榭生光饰，死灰弃置参与商。盛时一去贵反贱，桃笙葵扇安可常。玉堂向夕如无人，丝竹俨然宫商死。细人何言入君耳？尘生金尊酒如水。君今不念岁蹉跎，雁天明明凉露多。华灯青凝久照夜，彩童窈窕虚垂罗。入宫见妬君不察，莫入此地出风波。不会当时作天地，刚有多般愚与智。到头还用真宰心，何如上下皆清气。大道冥冥不知处，那堪顿得羲和辔。义不义兮仁不仁，拟学长生更容易。负心为炉复为火，缘木求鱼应且止。君不见烧金炼石古帝王，鬼火荧荧白杨里。君不见道傍废井生古木，本是骄奢贵人屋。几度美人照影来，素绠银缾濯纤玉。云飞雨散今如此，绣闼雕甍作荒谷。沸渭笙歌君莫夸，不应长是西家哭。休说遗编行者几，至竟终须合天理。败他成此亦何功，苏张终作多言鬼。行路难，行路难，不在羊肠里。九有茫茫共尧日，浪死虚生亦非一。清净玄音竟不闻，花眼酒肠暗如漆。或偶因片言只字登第光二亲，又不能献可替不航要津。口谈羲轩与周孔，履行不及屠沽人。行路难，行路难，日暮途远空悲叹。君不见道傍树有寄生枝，青青郁郁同荣衰。无情之物尚如此，为人不及还堪悲。父归坟兮未朝夕，已分黄金争田宅。高堂老母头似霜，心作数支泪常滴。我闻忽如负芒刺，不独为君空叹息。古人尺布犹可缝，浔阳义犬令人忆。寄言世上为人子，孝义团圆莫如此。君不见山高海深人不测，古往今来转青碧。浅近轻浮莫与交，池卑只解生荆棘。谁道黄金如粪土'), Document(page_content='，绿水回通宛转桥。妾家白苹浦，日上芙蓉檝。轧轧摇桨声，移舟入茭叶。溪长茭叶深，作底难相寻。避郎郎不见，㶉𫛶自浮沈。拾萍萍无根，采莲莲有子。不作浮萍生，宁作藕花死。岸傍骑马郎，乌帽紫游缰。含愁复含笑，回首问横塘。妾住金陵步，门前朱雀航。流苏持作帐，芙蓉持作梁。出入金犊幰，兄弟侍中郎。前年学歌舞，定得郎相许。连娟眉绕山，依约腰如杵。凤管悲若咽，鸾弦娇欲语。扇薄露红𫓪，罗轻压金缕。明月西南楼，珠帘玳瑁钩。横波巧能笑，弯蛾不识愁。花开子留树，草长根依土。早闻金沟远，底事归郎许。不学杨白花，朝朝泪如雨。江南人家多橘树，吴姬舟上织白纻。土地卑湿饶虫蛇，连木为牌入江住。江村亥日长为市，落帆渡桥来浦里。青莎覆城竹为屋，无井家家饮潮水。长江午日酤春酒，高高酒旗悬江口。倡楼两岸悬水栅，夜唱竹枝留北客。江南风土欢乐多，悠悠处处尽经过。江烟湿雨鲛绡輭，漠漠远山眉黛浅。水国多愁又有情，夜槽压酒银船满。绷丝采怨凝晓空，吴王台榭春梦中。鸳鸯㶉𫛶唤不起，平铺渌水眠东风。西陵路边月悄悄，油壁轻车嫁苏小。为爱江南雪，涉江聊采苹。水深烟浩浩，空对双车轮。车轮明月团，车盖浮云盘。云月徒自好，水中行路难。遥遥洛阳道，夹岸生春草。寄语櫂船郎，莫夸风浪好。鱼戏莲叶间，参差隐叶扇。䴔䴖鸀鳿窥，潋滟无因见。鱼戏莲叶东，初霞射红尾。傍临谢山侧，恰值清风起。鱼戏莲叶西，盘盘舞波急。潜依曲岸凉，正对斜光入。鱼戏莲叶南，欹危午烟叠。光摇越鸟巢，影乱吴娃檝。鱼戏莲叶北，澄阳动微涟。回看帝子渚，稍背鄂君船。雁塞日初晴，胡关雪复平。危竿缘广漠，古窦傍长城。拔劒金星出，弯弧玉羽鸣。谁知系虏者，贾谊是书生。金锁耀兜鍪，黄云拂紫骝。叛羌旗下戮，陷壁夜中收。霜霰戎衣故，关河碛气秋。箭创殊未合，更遣击兰州。火发龙山北，中宵易左贤。勒兵临汉水，惊雁散胡天。木落防河急，军孤受敌偏。犹闻汉皇怒，按劒待开边。登高丘而望远海，六鼇骨已霜，三山流安在。扶桑半摧折，白日沈光彩。银台金阙如梦中，秦皇汉武空相待。精卫费木石，鼋鼍无所凭。君不见骊山茂陵尽灰灭，牧羊之子来攀登。盗贼劫宝玉，精灵竟何能。兔不迟，乌更急，但恐穆王八骏，著鞭不及。所以蒿里，坟出蕺蕺，气凌云天，龙腾凤集，尽为风消土吃，狐掇蚁拾。黄金不啼玉不泣，白杨骚屑。乱风愁月，折碑石人。莽秽榛没，牛羊窸窣。时见牧童儿，弄枯骨。寒日蒿上明，凄凄郭东路。素车谁家子，丹旐引将去。原下荆棘丛，丛边有新墓。人间痛伤别，此是长别处。旷野何萧条，青松白杨树。阴风吹黄蒿，挽歌渡秋水。车马却归城，孤坟月明里。双辙出郭门，緜緜东西道。送死多于生，几人得终老。见人切肺肝，不如归山好。不闻哀哭声，默默安怀抱。时尽从物化，又免生忧扰。世间寿者稀，尽为悲伤恼。草草门巷喧，涂车俨成位。冥寞何所须，尽我生人意。北邙路非远，此别终天地。临穴频抚棺，至哀反无泪。尔形未衰老，尔息犹童穉。骨肉不可离，皇天若容易。房帷即虚张，庭宇为哀次。薤露歌若斯，人生尽如寄。丹旐何飞扬，素骖亦悲鸣。晨光照闾巷，輀车俨欲行。萧条九月天，哀挽出重城。借问送者谁，妻子与弟兄。苍苍上古原，峨峨开新茔。含酸一恸哭，异口同哀声。旧垄转芜绝，新坟日罗列。春风草绿北邙山，此地年年生死别。行行日将夕，荒村古冢无人迹。朦胧荆棘一鸟飞，屡唱提壶酤酒吃。古人不达酒不足，遗恨精灵传此曲。寄言当代诸少年，平生且尽杯中渌。松子栖金华，安期入蓬海。此人古之仙，羽化竟何在？浮生速流电，倏忽变光彩。天地无凋换，容颜有迁改。对酒不肯饮，含情欲谁待。劝君莫拒杯，春风笑人来。桃李如旧识，倾花向我开。流莺啼碧树，明月窥金罍。昨来朱颜子，今日白发催。棘生石虎殿，鹿走姑苏台。自古帝王宅，城阙闭黄埃。君若不饮酒，昔人安在哉。美女渭桥东，春还事蚕作。五马如飞龙，青丝结金络。不知谁家子，调笑来相谑。妾本秦罗敷，玉颜艳名都。绿条映素手，采桑向城隅。使君且不顾，况复论秋胡。寒螀爱碧草，鸣凤栖青梧。托心自有处，但怪傍人愚。徒令白日暮，高驾空踟蹰。翳翳陌上桑，南枝交北堂。美人金梯出，素手自提筐。非但畏蚕饥，盈盈娇路傍。皓齿还如贝色含，长眉亦似烟华贴。邻娃尽著绣裆襦，独自提筐采蚕叶。春来南雁归，日去西蚕远。妾思纷何极，客游殊未返。杨柳送行人，青青西入秦。秦家采桑女，楼上不胜春。盈盈灞水曲，步步春芳绿。红脸耀明珠，绛唇含白玉。回首渭桥东，遥怜树色同。青丝娇落日，缃绮弄春风。携笼长叹息，逶迤恋春色。看花若有情，倚树疑无力。薄暮思悠悠，使君南陌头。相逢不相识，归去梦青楼。采桑畏日高，不待春眠足。攀条有余愁，那矜貌如玉。千金岂不赠，五马空踟躅。何以变真性，幽篁雪中绿。鸟鸣桑叶间，叶绿条复柔。攀看去手近，放下长长钩。黄花盖野田，白马少年游。所念岂回顾，良人在高楼。日出东方隈，似从地底来。历天又入海，六龙所舍安在哉？其始与终古不息，人非元气安能与之久裴回。草不谢荣于春风'), Document(page_content='，光拂夏云收。助月微明散，沿河丽景浮。礼标时令爽，诗兴国风幽。自此观邦正，深知王业休。纨袴不饿死，儒冠多误身。丈人试静听，贱子请具陈。甫昔少年日，早充观国宾。读书破万卷，下笔如有神。赋料扬雄敌，诗看子建亲。李邕求识面，王翰愿卜邻。自谓颇挺出，立登要路津。致君尧舜上，再使风俗淳。此意竟萧条，行歌非隐沦。骑驴三十载，旅食京华春。朝扣富儿门，暮随肥马尘。残杯与冷炙，到处潜悲辛。主上顷见征，歘然欲求伸。青冥却垂翅，蹭蹬无纵鳞。甚媿丈人厚，甚知丈人真。每于百僚上，猥诵佳句新。窃效贡公喜，难甘原宪贫。焉能心怏怏，秪是走踆踆。今欲东入海，即将西去秦。尚怜终南山，回首清渭滨。常拟报一饭，况怀辞大臣。白鸥没浩荡，万里谁能驯。崆峒小麦熟，且愿休王师。请公问主将，焉用穷荒为。饥鹰未饱肉，侧翅随人飞。高生跨鞍马，有似幽幷儿。脱身簿尉中，始与捶楚辞。借问今何官，触热向武威。答云一书记，所媿国士知。人实不易知，更须慎其仪。十年出幕府，自可持旌麾。此行既特达，足以慰所思。男儿功名遂，亦在老大时。常恨结驩浅，各在天一涯。又如参与商，惨惨中肠悲。惊风吹鸿鹄，不得相追随。黄尘翳沙漠，念子何当归。边城有余力，早寄从军诗。二年客东都，所历厌机巧。野人对膻腥，蔬食常不饱。岂无青精饭，使我颜色好。苦乏大药资，山林迹如扫。李侯金闺彦，脱身事幽讨。亦有梁宋游，方期拾瑶草。已从招提游，更宿招提境。阴壑生虚籁，月林散清影。天阙象纬逼，云卧衣裳冷。欲觉闻晨钟，令人发深省。岱宗夫如何，齐鲁青未了。造化钟神秀，阴阳割昏晓。荡胷生曾云，决眦入归鸟。会当凌绝顶，一览众山小。东藩驻皂盖，北渚凌青荷。海内此亭古，济南名士多。云山已发兴，玉佩仍当歌。修竹不受暑，交流空涌波。蕴真惬所遇，落日将如何。贵贱俱物役，从公难重过。新亭结搆罢，隐见清湖阴。迹籍台观旧，气溟海岳深。圆荷想自昔，遗堞感至今。芳宴此时具，哀丝千古心。主称寿尊客，筵秩宴北林。不阻蓬荜兴，得兼梁甫吟。故人昔隐东蒙峰，已佩含景苍精龙。故人今居子午谷，独在阴崖结茅屋。屋前太古玄都坛，青石漠漠常风寒。子规夜啼山竹裂，王母昼下云旗翻。知君此计成长往，芝草琅玕日应长。铁鏁高垂不可攀，致身福地何萧爽。今夕何夕岁云徂，更长烛明不可孤。咸阳客舍一事无，相与博塞为欢娱。冯陵大叫呼五白，袒跣不肯成枭卢。英雄有时亦如此，邂逅岂即非良图。君莫笑刘毅从来布衣愿，家无儋石输百万。飜手作云覆手雨，纷纷轻薄何须数。不见管鲍贫时交，此道今人弃如土。车辚辚，马萧萧，行人弓箭各在腰。耶娘妻子走相送，尘埃不见咸阳桥。牵衣顿足阑道哭，哭声直上干云霄。道傍过者问行人，行人但云点行频。或从十五北防河，便至四十西营田。去时里正与裹头，归来头白还戍边。边亭流血成海水，武皇开边意未已。君不闻汉家山东二百州，千村万落生荆杞。纵有健妇把锄犂，禾生陇亩无东西。况复秦兵耐苦战，被驱不异犬与鸡。长者虽有问，役夫敢申恨。且如今年冬，未休关西卒。县官急索租，租税从何出？信知生男恶，反是生女好。生女犹是嫁比邻，生男埋没随百草。君不见青海头，古来白骨无人收。新鬼烦冤旧鬼哭，天阴雨湿声啾啾。安西都护胡青骢，声价歘然来向东。此马临阵久无敌，与人一心成大功。功成惠养随所致，飘飘远自流沙至。雄姿未受伏枥恩，猛气犹思战场利。腕促蹄高如踣铁，交河几蹴曾冰裂。五花散作云满身，万里方看汗流血。长安壮儿不敢骑，走过掣电倾城知。青丝络头为君老，何由却出横门道。吾闻天子之马走千里，今之画图无乃是。是何意态雄且杰，骏尾萧梢朔风起。毛为绿缥两耳黄，眼有紫燄双瞳方。矫矫龙性合变化，卓立天骨森开张。伊昔太仆张景顺，监牧攻驹阅清峻。遂令大奴守天育，别养骥子怜神俊。当时四十万匹马，张公叹其材尽下。故独写真传世人，见之座右久更新。年多物化空形影，呜呼健步无由骋。如今岂无騕褭与骅骝，时无王良伯乐死即休。缫丝须长不须白，越罗蜀锦金粟尺。象床玉手乱殷红，万草千花动凝碧。已悲素质随时染，裂下鸣机色相射。美人细意熨帖平，裁缝灭尽针线迹。春天衣著为君舞，蛱蜨飞来黄鹂语。落絮游丝亦有情，随风照日宜轻举。香汗轻尘污颜色，开新合故置何许。君不见才士汲引难，恐惧弃捐忍羁旅。雨中百草秋烂死，阶下决明颜色鲜。著叶满枝翠羽盖，开花无树黄金钱。凉风萧萧吹汝急，恐汝后时难独立。堂上书生空白头，临风三齅馨香泣。阑风长雨（一作「东风细雨」）秋纷纷，四海（一作「万里」）八荒同一云。去马来牛不复辨，浊泾清渭何当分。禾（一作「木」）头生耳黍穗黑，农夫田妇（一作「父」）无消息。城中斗米换（一作「抱」）衾裯，相许宁论两相直。长安布衣谁比数，反鏁衡门守环堵。老夫不出长蓬蒿，穉子无忧走（一作「奏」）风雨。雨声飕飕催早寒，胡雁翅湿高飞难。秋来未曾（一作「省」）见白日，埿污后（一作「厚」）土何时干？檐前甘菊移时晚，青蘂重阳不堪摘。明日萧条醉尽醒，残花烂熳开何益。篱边野外多众芳'), Document(page_content='，弹我白头吟。忆昔君前娇笑语，两情宛转如萦素。宫中为我起高楼，更开华池种芳树。春天百草秋始衰，弃我不待白头时。罗襦玉珥色未暗，今朝已道不相宜。扬州青铜作明镜，暗中持照不见影。人心回互自无穷，眼前好恶那能定。君恩已去若再返，菖蒲花生月长满。炎炎者烈火，营营者小蝇。火不热真玉，蝇不点清冰。此苟无所受，彼莫能相仍。乃知物性中，各有能不能。古称怨报死，则人有所惩。惩淫或应可，在道未为弘。譬如蜩鷃徒，啾啾啅龙鹏。宜当委之去，寥廓高飞腾。岂能泥尘下，区区酬怨憎。胡为作自苦，吞悲仍抚膺。乍可为天上牵牛织女星，不愿为庭前红槿枝。七月七日一相见，故心终不移。那能朝开暮飞去，一任东西南北吹。分不两相守，恨不两相思。对面且如此，背面当何知。春风撩乱伯劳语，此时抛去时。握手苦相问，竟不言后期。君情既决绝，妾意已参差。借如死生别，安得长苦悲。噫春冰之将泮，何余怀之独结。有美一人，于焉旷绝。一日不见，比一日于三年，况三年之旷别。水得风兮小而已波，笋在苞兮高不见节。矧桃李之当春，竞众人之攀折。我自顾悠悠而若云，又安能保君皓皓之如雪。感破镜之分明，覩泪痕之余血。幸他人之既不我先，又安能使他人之终不我夺。已焉哉！织女别黄姑，一年一度暂相见，彼此隔河何事无。夜夜相抱眠，幽怀尚沈结。那堪一年事，长遣一宵说。但感久相思，何暇暂相悦。虹桥薄夜成，龙驾侵晨列。生憎野鹊往迟回，死恨天鸡识时节。曙色渐曈昽，华星次明灭。一去又一年，一年何时彻。有此迢遰期，不如生死别。长啸梁甫吟，何时见阳春？君不见朝歌屠叟辞棘津，八十西来钓渭滨。宁羞白发照渌水，逢时吐气思经纶。广张三千六百钧，风雅暗与文王亲。大贤虎变愚不测，当年颇似寻常人。君不见高阳酒徒起草中，长揖山东隆准公。入门不拜骋雄辨，两女辍洗来趋风。东下齐城七十二，指麾楚汉如旋蓬。狂生落拓尚如此，何况壮士当群雄。我欲攀龙见明主，雷公砰訇震天鼓。帝旁投壶多玉女，三时大笑开电光。倏烁晦冥起风雨，阊阖九门不可通。以额叩关阍者怒，白日不照吾精诚。杞国无事忧天倾，䝟貐磨牙竞人肉。驺虞不折生草茎，手接飞猱搏雕虎。侧足焦原未言苦，智者可卷愚者豪。世人见我轻鸿毛，力排南山三壮士，齐相杀之费二桃。吴楚弄兵无剧孟，亚夫咍尔为徒劳。梁父吟，梁父吟，声正悲。张公两龙劒，神物合有时。风云感会起屠钓，大人𡸣屼当安之。好古笑流俗，素闻贤达风。方希佐明主，长揖辞成功。白日在高天，回光烛微躬。恭承凤皇诏，歘起云萝中。清切紫霄迥，优游丹禁通。君王赐颜色，声价凌烟虹。乘舆拥翠盖，扈从金城东。宝马丽绝景，锦衣入新丰。倚岩望松雪，对酒鸣丝桐。因学扬子云，献赋甘泉宫。天书美片善，清芬播无穷。归来入咸阳，谈笑皆王公。一朝去金马，飘落成飞蓬。宾友日疎散，玉尊亦已空。才力犹可倚，不慙世上雄。闲作东武吟，曲尽情未终。书此谢知己，吾寻黄绮翁。日晚梧桐落，微寒入禁垣。月悬三雀观，霜度万秋门。艳舞矜新宠，愁容泣旧恩。不堪深殿里，帘外欲黄昏。禁苑春风起，流莺绕合欢。玉窗通日气，珠箔卷轻寒。杨叶垂金砌，梨花入井阑。君王好长袖，新作舞衣宽。去年离别雁初归，今夜裁缝萤已飞。征客近来音信断，不知何处寄寒衣。玉关芳信断，兰闺锦字新。愁来好自抑，念切已含嚬。虚牖风惊梦，空床月厌人。归期傥可促，勿度柳园春。罗敷初总髻，蕙芳正娇小。月落始归船，春眠恒著晓。何处期郎游？小苑花台间。相忆不可见，且复乘月还。别来花照路，别后露垂叶。歌舞须及时，如何坐悲妾。楼前桃李疎，池上芙蓉落。织锦犹未成，虫声入罗幕。妾有罗衣裳，秦王在时作。为舞春风多，秋来不堪著。试妾与君泪，两处滴池水。看取芙蓉花，今年为谁死。君莫嫌丑妇，丑妇死守贞。山头一怪石，长作望夫名。鸟有竝翼飞，兽有比肩行。丈夫不立义，岂如鸟兽情。女萝寄松柏，绿蔓花緜緜。三五定君婚，结发早移天。肃肃羊雁礼，泠泠琴瑟篇。恭承采蘩祀，敢效同居贤。皎日不留景，良时如逝川。秋心还遗爱，春貌无归妍。翠袖洗朱粉，碧阶对绮钱。新人易如玉，废瑟难为弦。寄羡蕣华木，荣名香阁前。岂无摇落苦，贵与根蒂连。希君旧光景，照妾薄暮年。夺宠心那惯，寻思倚殿门。不知移旧爱，何处作新恩。春水悠悠春水绿，对此思君泪相续。羞将离恨向东风，理尽秦筝不成曲。与君形影分胡越，玉枕终年对离别。登台北望烟雨深，回身泣向寥天月。紫殿秋风冷，雕甍白日沈。裁纨凄断曲，织素别离心。掖庭羞改画，长门不惜金。宠移恩稍薄，情疎恨转深。香销翠羽帐，弦断凤皇琴。镜前红粉歇，阶上绿苔侵。谁言掩歌扇，飜作白头吟。十五入汉宫，花颜笑春红。君王选玉色，侍寝金屏中。荐枕娇夕月，卷衣恋春风。宁知赵飞燕，夺宠恨无穷。沈忧能伤人，绿鬓成霜蓬。一朝不得意，世事徒为空。鹔鹴换美酒，舞衣罢雕笼。寒苦不忍言，为君奏丝桐。肠断弦亦绝，悲心夜忡忡。城南有怨妇，含怨倚兰丛。自谓二八时，歌舞入汉宫。皇恩弄幸玉堂中，绿陌黄花催夜酒。锦衣罗袂逐春风'), Document(page_content='，杂雨夜霏霏。湿马胡歌乱，经烽汉火微。丁零苏武别，疎勒范羌归。若著关头过，长榆叶定稀。边声四合殷河流，雨雪飞来徧陇头。铁岭探人迷鸟道，阴山飞将湿貂裘。斜飘旌斾过戎帐，半杂风沙入戍楼。刘生气不平，抱劒欲专征。报恩为豪侠，死难在横行。翠羽装劒鞘，黄金饰马缨。但令一顾重，不吝百身轻。太子池南楼百尺，八窗新树疎帘隔。黄金铺首画钩陈，羽葆亭童拂交戟。盘纡阑楯临高台，帐殿临流鸾扇开。早雁声鸣细波起，映花卤簿龙飞回。门上关，墙上棘，窗中女子声唧唧，洛阳大道徒自直。女子心在婆舍侧，呜呜笼鸟触四隅。养男男娶妇，养女女嫁夫。阿婆六十翁七十，不知女子长日泣，从他嫁去无悒悒。幽州胡马客，绿眼虎皮冠。笑拂两只箭，万人不可干。弯弓若转月，白雁落云端。双双掉鞭行，游猎向楼兰。出门不顾后，报国死何难。天骄五单于，狼戾好凶残。牛马散北海，割鲜若虎餐。虽居燕支山，不道朔雪寒。妇女马上笑，颜如赪玉盘。飜入射鸟兽，花月醉雕鞍。旄头四光芒，争战若蜂攒。白刃洒赤血，流沙为之丹。名将古谁是，疲兵良可叹。何时天狼灭？父子得闲安。银鞍白鼻䯄，绿地障泥锦。细雨春风花落时，挥鞭且就胡姬饮。为底胡姬酒，长来白鼻䯄。摘莲抛水上，郎意在浮花。公乎公乎，提壶将焉如？屈平沈湘不足慕，徐衍入海诚为愚。公乎公乎，床有菅席盘有鱼。北里有贤兄，东邻有小姑。陇亩油油黍与葫，瓦甒浊醪蚁浮浮。黍可食，醪可饮，公乎公乎其奈居。被发奔流竟何如？贤兄小姑哭呜呜。黄河西来决崐崘，咆吼万里触龙门。波滔天，尧咨嗟。大禹理百川，儿啼不窥家。杀湍湮洪水，九州始蚕麻。其害乃去，茫然风沙。被发之叟狂而痴，清晨径流欲奚为。旁人不惜妻止之，公无渡河苦渡之。虎可搏，河难凭。公果溺死流海湄，有长鲸白齿若雪山。公乎公乎，挂骨于其间，箜篌所悲竟不还。渡头恶天两岸远，波涛塞川如叠坂。幸无白刃驱向前，何用将身自弃捐。蛟龙啮尸鱼食血，黄泥直下无青天。男儿纵轻妇人语，惜君性命还须取。妇人无力挽断衣，舟沈身死悔难追，公无渡河公自为。黄河怒浪连天来，大响谹谹如殷雷。龙伯驱风不敢上，百川喷雪高崔嵬。二十五弦何太哀？请公勿渡立裴回。下有狂蛟锯为尾，裂帆截櫂磨霜齿。神锥凿石塞神潭，白马𫎺𧽼赤尘起。公乎跃马扬玉鞭，灭没高蹄日千里。浊波洋洋兮凝晓雾，公无渡河兮公苦渡。风号水激兮呼不闻，提壶看入兮中流去。浪摆衣裳兮随步没，沈尸深入兮蛟螭窟。蛟螭尽醉兮君血干，推出黄沙兮泛君骨。当时君死妾何适？遂就波澜合魂魄。愿持精卫衔石心，穷取河源塞泉脉。妾住越城南，离居不自堪。采花惊曙鸟，摘叶𫗪春蚕。嬾结茱萸带，愁安玳瑁簪。侍臣消瘦尽，日暮碧江潭。美人何荡漾，湖上风月长。玉手欲有赠，裴回双鸣珰。歌声随渌水，怨色起朝阳。日暮还家望，云波横洞房。长干斜路北，近浦是儿家。有意来相访，明朝出浣纱。发向横塘口，船开值急流。知郎旧时意，且请拢船头。昨暝逗南陵，风声波浪阻。入浦不逢人，归家谁信汝。未晓已成妆，乘潮去茫茫。因从京口渡，使报邵陵王。始下芙蓉楼，言发琅邪岸。急为打船开，恶许傍人见。暮宿南洲草，晨行北岸林。日悬沧海阔，水隔洞庭深。烟景无留意，风波有异浔。岁游难极目，春戏易为心。朝夕无荣遇，芳菲已满襟。艳唱潮初落，江花露未晞。春洲惊翡翠，朱服弄芳菲。画舫烟中浅，青阳日际微。锦帆冲浪湿，罗袖拂行衣。含情罢所采，相叹惜流晖。君为陇西客，妾遇江南春。朝游含灵果，夕采弄风苹。果气时不歇，苹花日自新。以此江南物，持赠陇西人。空盈万里怀，欲赠竟无因。皓如楚江月，霭若吴岫云。波中自皎镜，山上亦氛氲。明月留照妾，轻云持赠君。山川各离散，光气乃殊分。天涯一为别，江北自相闻。舣舟乘潮去，风帆振草凉。潮平见楚甸，天际望维扬。洄溯经千里，烟波接两乡。云明江屿出，日照海流长。此中逢岁晏，浦树落花芳。暮春三月晴，维扬吴楚城。城临大江汜，回映洞浦清。晴云曲金阁，珠楼碧烟里。月明芳树群鸟飞，风过长林杂花起。可怜离别谁家子，于此一至情何已。北堂红草盛丰茸，南湖碧水照芙蓉。朝游暮起金花尽，渐觉罗裳珠露浓。自惜妍华三五岁，已叹关山千万重。人情一去无还日，欲赠怀芳怨不逢。忆昔江南年盛时，平生怨在长洲曲。冠盖星繁湘水上，冲风摽落洞庭渌。落花舞袖红纷纷，朝霞高阁洗晴云。谁言此处婵娟子，珠玉为心以奉君。偶向江边采白苹，还随女伴赛江神。众中不敢分明语，暗掷金钱卜远人。嫁得瞿塘贾，朝朝误妾期。早知潮有信，嫁与弄潮儿。汀洲白苹草，柳恽乘马归。江头樝树香，岸上蝴蝶飞。酒杯若叶露，玉轸蜀桐虚。朱楼通水陌，沙暖一双鱼。郎船安两桨，侬舸动双桡。埽黛开宫额，裁裙约楚腰。乖期方积思，临醉欲拚娇。莫以采菱唱，欲羡秦台箫。长乐花枝雨点消，江城日暮好相邀。春楼不闭葳蕤锁，绿水回通宛转桥。妾家白苹浦，日上芙蓉檝。轧轧摇桨声，移舟入茭叶。溪长茭叶深，作底难相寻。避郎郎不见，㶉𫛶自浮沈。拾萍萍无根，采莲莲有子。不作浮萍生，宁作藕花死。岸傍骑马郎')]\n"
          ]
        }
      ]
    },
    {
      "cell_type": "code",
      "source": [
        "from langchain_core.messages import HumanMessage\n",
        "from langchain_core.prompts import ChatPromptTemplate\n",
        "\n",
        "system_template = \"你是一个诗歌生成助手。请你使用收集到的内容来回答这些问题。如果你不知道答案，你只需要说你不知道。\"\n",
        "prompt_template = ChatPromptTemplate.from_messages(\n",
        "    [(\"system\", system_template+\"\\n\"),(\"user\",\"\\nQuestion: \"+\"{question}\"+\"\\nContext: \"+\"{context}\"+\"\\nAnswer:\")]\n",
        ")\n",
        "\n",
        "example_messages = prompt_template.invoke(\n",
        "    {\"context\": \"filler context\", \"question\": \"filler question\"}\n",
        ").to_messages()\n",
        "\n",
        "example_messages"
      ],
      "metadata": {
        "colab": {
          "base_uri": "https://localhost:8080/"
        },
        "id": "ggqCBQQXowI-",
        "outputId": "5f2c60aa-b29b-4ee2-ce10-89ccc33f30a8"
      },
      "execution_count": 73,
      "outputs": [
        {
          "output_type": "execute_result",
          "data": {
            "text/plain": [
              "[SystemMessage(content='你是一个诗歌生成助手。请你使用收集到的内容来回答这些问题。如果你不知道答案，你只需要说你不知道。\\n'),\n",
              " HumanMessage(content='\\nQuestion: filler question\\nContext: filler context\\nAnswer:')]"
            ]
          },
          "metadata": {},
          "execution_count": 73
        }
      ]
    },
    {
      "cell_type": "code",
      "source": [
        "from langchain_core.output_parsers import StrOutputParser\n",
        "from langchain_core.runnables import RunnablePassthrough\n",
        "\n",
        "\n",
        "def format_docs(docs):\n",
        "    return \"\\n\\n\".join(doc.page_content for doc in docs)\n",
        "\n",
        "\n",
        "rag_chain = (\n",
        "    {\"context\": retriever | format_docs, \"question\": RunnablePassthrough()}\n",
        "    | prompt_template\n",
        "    | llm\n",
        "    | StrOutputParser()\n",
        ")\n",
        "\n",
        "for chunk in rag_chain.stream(\"请你围绕天空写一首七言律诗\"):\n",
        "    print(chunk, end=\"\", flush=True)"
      ],
      "metadata": {
        "colab": {
          "base_uri": "https://localhost:8080/"
        },
        "id": "sWZF0fzMo9KU",
        "outputId": "69cb50b4-a9bc-4b75-c87c-5675996d5f57"
      },
      "execution_count": 83,
      "outputs": [
        {
          "output_type": "stream",
          "name": "stdout",
          "text": [
            "青天如水碧悠悠，白云飘散舞轻柔。徜徉其中心自逸，凝望高处思无忧。"
          ]
        }
      ]
    },
    {
      "cell_type": "code",
      "source": [
        "grade_llm = ChatOpenAI(base_url=\"https://api.chatanywhere.tech/v1\", model=\"gpt-4\")\n",
        "system_template = \"你是一个诗歌评估助手。请你根据以下评价要求对于给出的诗歌进行评价。请你只需要给出最后数字而不需要解释。评价标准：（评分等级为1到5）：①格式。生成的唐诗是否遵循写作规则,尤其注意对仗、句数、字数、平仄；②创新性。生成的唐诗是否抄袭现成的诗句，是否具有创新性；③相关性。生成的唐诗与给定主题是否相关；④美学。生成的唐诗是否符合中国诗词的审美，包括寓情于物等；⑤整体。从整体情况评价生成的唐诗。\"\n",
        "prompt = ChatPromptTemplate.from_messages(\n",
        "    [(\"system\", system_template+\"\\n\"),(\"user\",\"\\nQuestion: \"+\"{question}\"+\"\\nAnswer\")]\n",
        ")\n",
        "grade_chain = prompt | grade_llm | StrOutputParser()"
      ],
      "metadata": {
        "id": "pwOH7k7b7EZv"
      },
      "execution_count": 92,
      "outputs": []
    },
    {
      "cell_type": "code",
      "source": [
        "theme = [\"流水\",\"天空\",\"树木\",\"爱情\",\"自由\"]\n",
        "score = []\n",
        "passage = []\n",
        "for each in theme:\n",
        "  response = rag_chain.invoke(\"请你围绕天空写一首七言律诗\")\n",
        "  passage.append(response)\n",
        "  scores = grade_chain.invoke(response)\n",
        "  score.append(scores)\n",
        "print(score)\n",
        "print(passage)"
      ],
      "metadata": {
        "colab": {
          "base_uri": "https://localhost:8080/"
        },
        "id": "orRXSKH99g_I",
        "outputId": "2a43cf2d-1a85-4e96-b91e-9c6d70b0d199"
      },
      "execution_count": 93,
      "outputs": [
        {
          "output_type": "stream",
          "name": "stdout",
          "text": [
            "['①格式：4\\n②创新性：3\\n③相关性：4\\n④美学：4\\n⑤整体：4', '①格式：4\\n②创新性：4\\n③相关性：4\\n④美学：4\\n⑤整体：4', '①格式：4\\n②创新性：4\\n③相关性：5\\n④美学：5\\n⑤整体：4', '①格式：4\\n②创新性：4\\n③相关性：4\\n④美学：4\\n⑤整体：4', '①格式：4\\n②创新性：4\\n③相关性：4\\n④美学：3\\n⑤整体：4']\n",
            "['天空深邃浩渺宽，星云交缠亦无关。风吹云卷天无边，晴空万里白云间。', '天空苍茫云涌动，朔气连天黑不通。清心望云端，羽衣相识长无极。', '天空无边浩瀚宽，云卷云舒似绸缎。碧空连天青气浓，夜幕降临星斗亮。', '天空浩瀚云雾深，征人相对思归心。黑暗中云气浮连，清心回望云端起。羽盖霓裳相识处，传情写念长无极。', '天空浩瀚云深黑，思归征人望故乡。云和朔气连天暗，清心回望云之光。羽盖霓裳传情意，长无极写念长。']\n"
          ]
        }
      ]
    }
  ]
}